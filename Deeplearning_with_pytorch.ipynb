{
  "nbformat": 4,
  "nbformat_minor": 0,
  "metadata": {
    "colab": {
      "provenance": [],
      "authorship_tag": "ABX9TyPBLz9TVWaFZdY3tm1kuWVd",
      "include_colab_link": true
    },
    "kernelspec": {
      "name": "python3",
      "display_name": "Python 3"
    },
    "language_info": {
      "name": "python"
    }
  },
  "cells": [
    {
      "cell_type": "markdown",
      "metadata": {
        "id": "view-in-github",
        "colab_type": "text"
      },
      "source": [
        "<a href=\"https://colab.research.google.com/github/sridhar8642/Deep_learning_pytorch/blob/main/Deeplearning_with_pytorch.ipynb\" target=\"_parent\"><img src=\"https://colab.research.google.com/assets/colab-badge.svg\" alt=\"Open In Colab\"/></a>"
      ]
    },
    {
      "cell_type": "markdown",
      "source": [
        "*Pytorch documentation:*\n",
        "https://pytorch.org/docs/stable/index.html"
      ],
      "metadata": {
        "id": "J-y90CeM1E3D"
      }
    },
    {
      "cell_type": "code",
      "source": [
        "#to check all versions of packages installed in google colab\n",
        "!pip list"
      ],
      "metadata": {
        "colab": {
          "base_uri": "https://localhost:8080/"
        },
        "collapsed": true,
        "id": "n00DQASJ1Yj6",
        "outputId": "60b1256b-550c-44d4-9a64-8339099ef7e8"
      },
      "execution_count": null,
      "outputs": [
        {
          "output_type": "stream",
          "name": "stdout",
          "text": [
            "Package                          Version\n",
            "-------------------------------- ---------------------\n",
            "absl-py                          1.4.0\n",
            "accelerate                       0.32.1\n",
            "aiohappyeyeballs                 2.3.4\n",
            "aiohttp                          3.10.1\n",
            "aiosignal                        1.3.1\n",
            "alabaster                        0.7.16\n",
            "albucore                         0.0.13\n",
            "albumentations                   1.4.13\n",
            "altair                           4.2.2\n",
            "annotated-types                  0.7.0\n",
            "anyio                            3.7.1\n",
            "argon2-cffi                      23.1.0\n",
            "argon2-cffi-bindings             21.2.0\n",
            "array_record                     0.5.1\n",
            "arviz                            0.18.0\n",
            "asn1crypto                       1.5.1\n",
            "astropy                          6.1.2\n",
            "astropy-iers-data                0.2024.8.5.0.32.23\n",
            "astunparse                       1.6.3\n",
            "async-timeout                    4.0.3\n",
            "atpublic                         4.1.0\n",
            "attrs                            24.2.0\n",
            "audioread                        3.0.1\n",
            "autograd                         1.6.2\n",
            "Babel                            2.15.0\n",
            "backcall                         0.2.0\n",
            "beautifulsoup4                   4.12.3\n",
            "bidict                           0.23.1\n",
            "bigframes                        1.13.0\n",
            "bleach                           6.1.0\n",
            "blinker                          1.4\n",
            "blis                             0.7.11\n",
            "blosc2                           2.0.0\n",
            "bokeh                            3.4.3\n",
            "bqplot                           0.12.43\n",
            "branca                           0.7.2\n",
            "build                            1.2.1\n",
            "CacheControl                     0.14.0\n",
            "cachetools                       5.4.0\n",
            "catalogue                        2.0.10\n",
            "certifi                          2024.7.4\n",
            "cffi                             1.17.0\n",
            "chardet                          5.2.0\n",
            "charset-normalizer               3.3.2\n",
            "chex                             0.1.86\n",
            "clarabel                         0.9.0\n",
            "click                            8.1.7\n",
            "click-plugins                    1.1.1\n",
            "cligj                            0.7.2\n",
            "cloudpathlib                     0.18.1\n",
            "cloudpickle                      2.2.1\n",
            "cmake                            3.30.2\n",
            "cmdstanpy                        1.2.4\n",
            "colorcet                         3.1.0\n",
            "colorlover                       0.3.0\n",
            "colour                           0.1.5\n",
            "community                        1.0.0b1\n",
            "confection                       0.1.5\n",
            "cons                             0.4.6\n",
            "contextlib2                      21.6.0\n",
            "contourpy                        1.2.1\n",
            "cryptography                     42.0.8\n",
            "cuda-python                      12.2.1\n",
            "cudf-cu12                        24.4.1\n",
            "cufflinks                        0.17.3\n",
            "cupy-cuda12x                     12.2.0\n",
            "cvxopt                           1.3.2\n",
            "cvxpy                            1.5.2\n",
            "cycler                           0.12.1\n",
            "cymem                            2.0.8\n",
            "Cython                           3.0.11\n",
            "dask                             2024.7.1\n",
            "datascience                      0.17.6\n",
            "db-dtypes                        1.2.0\n",
            "dbus-python                      1.2.18\n",
            "debugpy                          1.6.6\n",
            "decorator                        4.4.2\n",
            "defusedxml                       0.7.1\n",
            "distributed                      2024.7.1\n",
            "distro                           1.7.0\n",
            "dlib                             19.24.2\n",
            "dm-tree                          0.1.8\n",
            "docstring_parser                 0.16\n",
            "docutils                         0.18.1\n",
            "dopamine_rl                      4.0.9\n",
            "duckdb                           0.10.3\n",
            "earthengine-api                  0.1.415\n",
            "easydict                         1.13\n",
            "ecos                             2.0.14\n",
            "editdistance                     0.8.1\n",
            "eerepr                           0.0.4\n",
            "einops                           0.8.0\n",
            "en-core-web-sm                   3.7.1\n",
            "entrypoints                      0.4\n",
            "et-xmlfile                       1.1.0\n",
            "etils                            1.7.0\n",
            "etuples                          0.3.9\n",
            "eval_type_backport               0.2.0\n",
            "exceptiongroup                   1.2.2\n",
            "fastai                           2.7.16\n",
            "fastcore                         1.5.55\n",
            "fastdownload                     0.0.7\n",
            "fastjsonschema                   2.20.0\n",
            "fastprogress                     1.0.3\n",
            "fastrlock                        0.8.2\n",
            "filelock                         3.15.4\n",
            "fiona                            1.9.6\n",
            "firebase-admin                   6.5.0\n",
            "Flask                            2.2.5\n",
            "flatbuffers                      24.3.25\n",
            "flax                             0.8.4\n",
            "folium                           0.17.0\n",
            "fonttools                        4.53.1\n",
            "frozendict                       2.4.4\n",
            "frozenlist                       1.4.1\n",
            "fsspec                           2024.6.1\n",
            "future                           1.0.0\n",
            "gast                             0.6.0\n",
            "gcsfs                            2024.6.1\n",
            "GDAL                             3.6.4\n",
            "gdown                            5.1.0\n",
            "geemap                           0.33.1\n",
            "gensim                           4.3.3\n",
            "geocoder                         1.38.1\n",
            "geographiclib                    2.0\n",
            "geopandas                        0.14.4\n",
            "geopy                            2.4.1\n",
            "gin-config                       0.5.0\n",
            "glob2                            0.7\n",
            "google                           2.0.3\n",
            "google-ai-generativelanguage     0.6.6\n",
            "google-api-core                  2.19.1\n",
            "google-api-python-client         2.137.0\n",
            "google-auth                      2.27.0\n",
            "google-auth-httplib2             0.2.0\n",
            "google-auth-oauthlib             1.2.1\n",
            "google-cloud-aiplatform          1.59.0\n",
            "google-cloud-bigquery            3.25.0\n",
            "google-cloud-bigquery-connection 1.15.5\n",
            "google-cloud-bigquery-storage    2.25.0\n",
            "google-cloud-bigtable            2.25.0\n",
            "google-cloud-core                2.4.1\n",
            "google-cloud-datastore           2.19.0\n",
            "google-cloud-firestore           2.16.1\n",
            "google-cloud-functions           1.16.5\n",
            "google-cloud-iam                 2.15.2\n",
            "google-cloud-language            2.13.4\n",
            "google-cloud-pubsub              2.23.0\n",
            "google-cloud-resource-manager    1.12.5\n",
            "google-cloud-storage             2.8.0\n",
            "google-cloud-translate           3.15.5\n",
            "google-colab                     1.0.0\n",
            "google-crc32c                    1.5.0\n",
            "google-generativeai              0.7.2\n",
            "google-pasta                     0.2.0\n",
            "google-resumable-media           2.7.1\n",
            "googleapis-common-protos         1.63.2\n",
            "googledrivedownloader            0.4\n",
            "graphviz                         0.20.3\n",
            "greenlet                         3.0.3\n",
            "grpc-google-iam-v1               0.13.1\n",
            "grpcio                           1.64.1\n",
            "grpcio-status                    1.48.2\n",
            "gspread                          6.0.2\n",
            "gspread-dataframe                3.3.1\n",
            "gym                              0.25.2\n",
            "gym-notices                      0.0.8\n",
            "h5netcdf                         1.3.0\n",
            "h5py                             3.11.0\n",
            "holidays                         0.54\n",
            "holoviews                        1.18.3\n",
            "html5lib                         1.1\n",
            "httpimport                       1.3.1\n",
            "httplib2                         0.22.0\n",
            "huggingface-hub                  0.23.5\n",
            "humanize                         4.10.0\n",
            "hyperopt                         0.2.7\n",
            "ibis-framework                   8.0.0\n",
            "idna                             3.7\n",
            "imageio                          2.34.2\n",
            "imageio-ffmpeg                   0.5.1\n",
            "imagesize                        1.4.1\n",
            "imbalanced-learn                 0.12.3\n",
            "imgaug                           0.4.0\n",
            "immutabledict                    4.2.0\n",
            "importlib_metadata               8.2.0\n",
            "importlib_resources              6.4.0\n",
            "imutils                          0.5.4\n",
            "inflect                          7.3.1\n",
            "iniconfig                        2.0.0\n",
            "intel-cmplr-lib-ur               2024.2.0\n",
            "intel-openmp                     2024.2.0\n",
            "ipyevents                        2.0.2\n",
            "ipyfilechooser                   0.6.0\n",
            "ipykernel                        5.5.6\n",
            "ipyleaflet                       0.18.2\n",
            "ipyparallel                      8.8.0\n",
            "ipython                          7.34.0\n",
            "ipython-genutils                 0.2.0\n",
            "ipython-sql                      0.5.0\n",
            "ipytree                          0.2.2\n",
            "ipywidgets                       7.7.1\n",
            "itsdangerous                     2.2.0\n",
            "jax                              0.4.26\n",
            "jaxlib                           0.4.26+cuda12.cudnn89\n",
            "jeepney                          0.7.1\n",
            "jellyfish                        1.1.0\n",
            "jieba                            0.42.1\n",
            "Jinja2                           3.1.4\n",
            "joblib                           1.4.2\n",
            "jsonpickle                       3.2.2\n",
            "jsonschema                       4.23.0\n",
            "jsonschema-specifications        2023.12.1\n",
            "jupyter-client                   6.1.12\n",
            "jupyter-console                  6.1.0\n",
            "jupyter_core                     5.7.2\n",
            "jupyter-server                   1.24.0\n",
            "jupyterlab_pygments              0.3.0\n",
            "jupyterlab_widgets               3.0.11\n",
            "kaggle                           1.6.17\n",
            "kagglehub                        0.2.9\n",
            "keras                            3.4.1\n",
            "keyring                          23.5.0\n",
            "kiwisolver                       1.4.5\n",
            "langcodes                        3.4.0\n",
            "language_data                    1.2.0\n",
            "launchpadlib                     1.10.16\n",
            "lazr.restfulclient               0.14.4\n",
            "lazr.uri                         1.0.6\n",
            "lazy_loader                      0.4\n",
            "libclang                         18.1.1\n",
            "librosa                          0.10.2.post1\n",
            "lightgbm                         4.4.0\n",
            "linkify-it-py                    2.0.3\n",
            "llvmlite                         0.43.0\n",
            "locket                           1.0.0\n",
            "logical-unification              0.4.6\n",
            "lxml                             4.9.4\n",
            "malloy                           2024.1089\n",
            "marisa-trie                      1.2.0\n",
            "Markdown                         3.6\n",
            "markdown-it-py                   3.0.0\n",
            "MarkupSafe                       2.1.5\n",
            "matplotlib                       3.7.1\n",
            "matplotlib-inline                0.1.7\n",
            "matplotlib-venn                  0.11.10\n",
            "mdit-py-plugins                  0.4.1\n",
            "mdurl                            0.1.2\n",
            "miniKanren                       1.0.3\n",
            "missingno                        0.5.2\n",
            "mistune                          0.8.4\n",
            "mizani                           0.9.3\n",
            "mkl                              2024.2.0\n",
            "ml-dtypes                        0.4.0\n",
            "mlxtend                          0.23.1\n",
            "more-itertools                   10.3.0\n",
            "moviepy                          1.0.3\n",
            "mpmath                           1.3.0\n",
            "msgpack                          1.0.8\n",
            "multidict                        6.0.5\n",
            "multipledispatch                 1.0.0\n",
            "multitasking                     0.0.11\n",
            "murmurhash                       1.0.10\n",
            "music21                          9.1.0\n",
            "namex                            0.0.8\n",
            "natsort                          8.4.0\n",
            "nbclassic                        1.1.0\n",
            "nbclient                         0.10.0\n",
            "nbconvert                        6.5.4\n",
            "nbformat                         5.10.4\n",
            "nest-asyncio                     1.6.0\n",
            "networkx                         3.3\n",
            "nibabel                          5.0.1\n",
            "nltk                             3.8.1\n",
            "notebook                         6.5.5\n",
            "notebook_shim                    0.2.4\n",
            "numba                            0.60.0\n",
            "numexpr                          2.10.1\n",
            "numpy                            1.26.4\n",
            "nvtx                             0.2.10\n",
            "oauth2client                     4.1.3\n",
            "oauthlib                         3.2.2\n",
            "opencv-contrib-python            4.10.0.84\n",
            "opencv-python                    4.10.0.84\n",
            "opencv-python-headless           4.10.0.84\n",
            "openpyxl                         3.1.5\n",
            "opt-einsum                       3.3.0\n",
            "optax                            0.2.2\n",
            "optree                           0.12.1\n",
            "orbax-checkpoint                 0.5.23\n",
            "osqp                             0.6.7.post0\n",
            "packaging                        24.1\n",
            "pandas                           2.1.4\n",
            "pandas-datareader                0.10.0\n",
            "pandas-gbq                       0.19.2\n",
            "pandas-stubs                     2.1.4.231227\n",
            "pandocfilters                    1.5.1\n",
            "panel                            1.4.5\n",
            "param                            2.1.1\n",
            "parso                            0.8.4\n",
            "parsy                            2.1\n",
            "partd                            1.4.2\n",
            "pathlib                          1.0.1\n",
            "patsy                            0.5.6\n",
            "peewee                           3.17.6\n",
            "pexpect                          4.9.0\n",
            "pickleshare                      0.7.5\n",
            "Pillow                           9.4.0\n",
            "pip                              24.1.2\n",
            "pip-tools                        7.4.1\n",
            "platformdirs                     4.2.2\n",
            "plotly                           5.15.0\n",
            "plotnine                         0.12.4\n",
            "pluggy                           1.5.0\n",
            "polars                           0.20.2\n",
            "pooch                            1.8.2\n",
            "portpicker                       1.5.2\n",
            "prefetch_generator               1.0.3\n",
            "preshed                          3.0.9\n",
            "prettytable                      3.10.2\n",
            "proglog                          0.1.10\n",
            "progressbar2                     4.2.0\n",
            "prometheus_client                0.20.0\n",
            "promise                          2.3\n",
            "prompt_toolkit                   3.0.47\n",
            "prophet                          1.1.5\n",
            "proto-plus                       1.24.0\n",
            "protobuf                         3.20.3\n",
            "psutil                           5.9.5\n",
            "psycopg2                         2.9.9\n",
            "ptyprocess                       0.7.0\n",
            "py-cpuinfo                       9.0.0\n",
            "py4j                             0.10.9.7\n",
            "pyarrow                          14.0.2\n",
            "pyarrow-hotfix                   0.6\n",
            "pyasn1                           0.6.0\n",
            "pyasn1_modules                   0.4.0\n",
            "pycocotools                      2.0.8\n",
            "pycparser                        2.22\n",
            "pydantic                         2.8.2\n",
            "pydantic_core                    2.20.1\n",
            "pydata-google-auth               1.8.2\n",
            "pydot                            1.4.2\n",
            "pydot-ng                         2.0.0\n",
            "pydotplus                        2.0.2\n",
            "PyDrive                          1.3.1\n",
            "PyDrive2                         1.6.3\n",
            "pyerfa                           2.0.1.4\n",
            "pygame                           2.6.0\n",
            "Pygments                         2.16.1\n",
            "PyGObject                        3.42.1\n",
            "PyJWT                            2.9.0\n",
            "pymc                             5.10.4\n",
            "pymystem3                        0.2.0\n",
            "pynvjitlink-cu12                 0.3.0\n",
            "PyOpenGL                         3.1.7\n",
            "pyOpenSSL                        24.2.1\n",
            "pyparsing                        3.1.2\n",
            "pyperclip                        1.9.0\n",
            "pyproj                           3.6.1\n",
            "pyproject_hooks                  1.1.0\n",
            "pyshp                            2.3.1\n",
            "PySocks                          1.7.1\n",
            "pytensor                         2.18.6\n",
            "pytest                           7.4.4\n",
            "python-apt                       2.4.0\n",
            "python-box                       7.2.0\n",
            "python-dateutil                  2.8.2\n",
            "python-louvain                   0.16\n",
            "python-slugify                   8.0.4\n",
            "python-utils                     3.8.2\n",
            "pytz                             2024.1\n",
            "pyviz_comms                      3.0.3\n",
            "PyYAML                           6.0.2\n",
            "pyzmq                            24.0.1\n",
            "qdldl                            0.1.7.post4\n",
            "ratelim                          0.1.6\n",
            "referencing                      0.35.1\n",
            "regex                            2024.5.15\n",
            "requests                         2.32.3\n",
            "requests-oauthlib                1.3.1\n",
            "requirements-parser              0.9.0\n",
            "rich                             13.7.1\n",
            "rmm-cu12                         24.4.0\n",
            "rpds-py                          0.20.0\n",
            "rpy2                             3.4.2\n",
            "rsa                              4.9\n",
            "safetensors                      0.4.4\n",
            "scikit-image                     0.23.2\n",
            "scikit-learn                     1.3.2\n",
            "scipy                            1.13.1\n",
            "scooby                           0.10.0\n",
            "scs                              3.2.6\n",
            "seaborn                          0.13.1\n",
            "SecretStorage                    3.3.1\n",
            "Send2Trash                       1.8.3\n",
            "sentencepiece                    0.1.99\n",
            "setuptools                       71.0.4\n",
            "shapely                          2.0.5\n",
            "shellingham                      1.5.4\n",
            "simple_parsing                   0.1.5\n",
            "six                              1.16.0\n",
            "sklearn-pandas                   2.2.0\n",
            "smart-open                       7.0.4\n",
            "sniffio                          1.3.1\n",
            "snowballstemmer                  2.2.0\n",
            "snowflake-connector-python       3.12.0\n",
            "sortedcontainers                 2.4.0\n",
            "soundfile                        0.12.1\n",
            "soupsieve                        2.5\n",
            "soxr                             0.4.0\n",
            "spacy                            3.7.5\n",
            "spacy-legacy                     3.0.12\n",
            "spacy-loggers                    1.0.5\n",
            "Sphinx                           5.0.2\n",
            "sphinxcontrib-applehelp          2.0.0\n",
            "sphinxcontrib-devhelp            2.0.0\n",
            "sphinxcontrib-htmlhelp           2.1.0\n",
            "sphinxcontrib-jsmath             1.0.1\n",
            "sphinxcontrib-qthelp             2.0.0\n",
            "sphinxcontrib-serializinghtml    2.0.0\n",
            "SQLAlchemy                       2.0.32\n",
            "sqlglot                          20.11.0\n",
            "sqlparse                         0.5.1\n",
            "srsly                            2.4.8\n",
            "stanio                           0.5.1\n",
            "statsmodels                      0.14.2\n",
            "StrEnum                          0.4.15\n",
            "sympy                            1.13.1\n",
            "tables                           3.8.0\n",
            "tabulate                         0.9.0\n",
            "tbb                              2021.13.0\n",
            "tblib                            3.0.0\n",
            "tenacity                         9.0.0\n",
            "tensorboard                      2.17.0\n",
            "tensorboard-data-server          0.7.2\n",
            "tensorflow                       2.17.0\n",
            "tensorflow-datasets              4.9.6\n",
            "tensorflow-hub                   0.16.1\n",
            "tensorflow-io-gcs-filesystem     0.37.1\n",
            "tensorflow-metadata              1.15.0\n",
            "tensorflow-probability           0.24.0\n",
            "tensorstore                      0.1.64\n",
            "termcolor                        2.4.0\n",
            "terminado                        0.18.1\n",
            "text-unidecode                   1.3\n",
            "textblob                         0.17.1\n",
            "tf_keras                         2.17.0\n",
            "tf-slim                          1.1.0\n",
            "thinc                            8.2.5\n",
            "threadpoolctl                    3.5.0\n",
            "tifffile                         2024.7.24\n",
            "tinycss2                         1.3.0\n",
            "tokenizers                       0.19.1\n",
            "toml                             0.10.2\n",
            "tomli                            2.0.1\n",
            "tomlkit                          0.13.0\n",
            "toolz                            0.12.1\n",
            "torch                            2.3.1+cu121\n",
            "torchaudio                       2.3.1+cu121\n",
            "torchsummary                     1.5.1\n",
            "torchtext                        0.18.0\n",
            "torchvision                      0.18.1+cu121\n",
            "tornado                          6.3.3\n",
            "tqdm                             4.66.5\n",
            "traitlets                        5.7.1\n",
            "traittypes                       0.2.1\n",
            "transformers                     4.42.4\n",
            "triton                           2.3.1\n",
            "tweepy                           4.14.0\n",
            "typeguard                        4.3.0\n",
            "typer                            0.12.3\n",
            "types-pytz                       2024.1.0.20240417\n",
            "types-setuptools                 71.1.0.20240806\n",
            "typing_extensions                4.12.2\n",
            "tzdata                           2024.1\n",
            "tzlocal                          5.2\n",
            "uc-micro-py                      1.0.3\n",
            "uritemplate                      4.1.1\n",
            "urllib3                          2.0.7\n",
            "vega-datasets                    0.9.0\n",
            "wadllib                          1.3.6\n",
            "wasabi                           1.1.3\n",
            "wcwidth                          0.2.13\n",
            "weasel                           0.4.1\n",
            "webcolors                        24.6.0\n",
            "webencodings                     0.5.1\n",
            "websocket-client                 1.8.0\n",
            "Werkzeug                         3.0.3\n",
            "wheel                            0.44.0\n",
            "widgetsnbextension               3.6.8\n",
            "wordcloud                        1.9.3\n",
            "wrapt                            1.16.0\n",
            "xarray                           2024.6.0\n",
            "xarray-einstats                  0.7.0\n",
            "xgboost                          2.1.1\n",
            "xlrd                             2.0.1\n",
            "xyzservices                      2024.6.0\n",
            "yarl                             1.9.4\n",
            "yellowbrick                      1.5\n",
            "yfinance                         0.2.41\n",
            "zict                             3.0.0\n",
            "zipp                             3.19.2\n"
          ]
        }
      ]
    },
    {
      "cell_type": "markdown",
      "source": [
        "**Deep learning:**\n",
        "Deep learning is a type of artificial intelligence (AI) that enables computers to learn and make decisions like humans. It is a subset of machine learning that uses neural networks, which are inspired by the structure of the human brain, to process data and make predictions.\n",
        "\n",
        "### Key Points:\n",
        "1. **Neural Networks**: At its core, deep learning uses neural networks with many layers (hence \"deep\"). Each layer learns to recognize different patterns in the data.\n",
        "\n",
        "2. **Learning from Data**: The more data the network is exposed to, the better it becomes at making accurate predictions. For example, a deep learning model trained on thousands of images of cats will learn to identify cats in new images.\n",
        "\n",
        "3. **Applications**: Deep learning is used in various applications like image recognition, speech recognition, natural language processing (NLP), and even in autonomous vehicles.\n",
        "\n",
        "### How it Works:\n",
        "- **Input Layer**: Takes in raw data (like images, text, etc.).\n",
        "- **Hidden Layers**: These layers process the data, with each layer recognizing increasingly complex features.\n",
        "- **Output Layer**: Produces the final prediction or decision (e.g., identifying if an image is a cat or not).\n",
        "\n",
        "### Example:\n",
        "Imagine teaching a child to recognize a dog. You show them many pictures of dogs, and over time, they learn to recognize the features that make a dog (like a tail, fur, etc.). Deep learning works similarly, but instead of a child, it's a computer learning from the data.\n",
        "\n",
        "In simple terms, deep learning is like teaching a computer to recognize patterns and make decisions based on those patterns, just like humans do."
      ],
      "metadata": {
        "id": "3PvgxeKL2GZw"
      }
    },
    {
      "cell_type": "markdown",
      "source": [
        "**Pytorch:**\n",
        "PyTorch is a popular tool for building and working with deep learning models. It’s like a set of building blocks that helps developers and researchers create AI models without having to start from scratch.\n",
        "\n",
        "### Key Points:\n",
        "1. **Framework for Deep Learning**: PyTorch is a framework, or a toolkit, designed specifically for creating deep learning models. It provides a lot of ready-made components, making it easier to build, train, and test these models.\n",
        "\n",
        "2. **Flexible and Easy to Use**: PyTorch is known for being user-friendly and flexible. It lets you experiment and try out different ideas without too much hassle. This is why it's popular in both academia and industry.\n",
        "\n",
        "3. **Automatic Differentiation**: One of PyTorch’s key features is \"autograd,\" which automatically calculates gradients. This is crucial for training deep learning models, as it helps in adjusting the model to improve its accuracy.\n",
        "\n",
        "### How PyTorch Works:\n",
        "- **Tensors**: PyTorch uses tensors, which are multi-dimensional arrays (like matrices) that store data. Tensors are the basic building blocks in PyTorch, and you can perform mathematical operations on them.\n",
        "  \n",
        "- **Neural Networks**: You can use PyTorch to build neural networks by stacking layers together. PyTorch makes it easy to define these networks and specify how they should process data.\n",
        "\n",
        "- **Training Models**: Once you’ve built a model, PyTorch helps you train it using your data. It handles the heavy lifting, like optimizing the model to make better predictions.\n",
        "PyTorch is a popular tool for building and working with deep learning models. It’s like a set of building blocks that helps developers and researchers create AI models without having to start from scratch.\n",
        "\n",
        "### Example:\n",
        "If deep learning is like building a house, then PyTorch is like a toolkit with hammers, nails, and blueprints. It gives you everything you need to construct and customize your model without having to create everything from scratch.\n",
        "\n",
        "In summary, PyTorch is a powerful, easy-to-use tool that helps people build and train deep learning models, making it easier to experiment with AI.\n"
      ],
      "metadata": {
        "id": "nY2ejDkh2WqS"
      }
    },
    {
      "cell_type": "markdown",
      "source": [
        "**TENSORS:**\n",
        "\n",
        "A torch.Tensor is a multi-dimensional matrix containing elements of a single data type.\n",
        "\n",
        "Similar To Numpy Arrays, but full of fun things that make them work better on GPU's (vs regular CPU's).\n",
        "\n",
        "default data type of float32.\n",
        "\n",
        "More suitable for deep learning than a numpy array."
      ],
      "metadata": {
        "id": "2VvGFgOw3pe4"
      }
    },
    {
      "cell_type": "code",
      "source": [
        "import torch\n",
        "import numpy as np"
      ],
      "metadata": {
        "id": "YyaFosxy4A5w"
      },
      "execution_count": null,
      "outputs": []
    },
    {
      "cell_type": "markdown",
      "source": [
        "**LIST**"
      ],
      "metadata": {
        "id": "0lYvwkyv4JoJ"
      }
    },
    {
      "cell_type": "code",
      "source": [
        "my_list = [[1,2,3,4,5], [6,7,8,9,10]]\n",
        "my_list"
      ],
      "metadata": {
        "colab": {
          "base_uri": "https://localhost:8080/"
        },
        "id": "egnATpj34N1s",
        "outputId": "363033b1-e750-443b-d625-96f2a297c561"
      },
      "execution_count": null,
      "outputs": [
        {
          "output_type": "execute_result",
          "data": {
            "text/plain": [
              "[[1, 2, 3, 4, 5], [6, 7, 8, 9, 10]]"
            ]
          },
          "metadata": {},
          "execution_count": 126
        }
      ]
    },
    {
      "cell_type": "markdown",
      "source": [
        "**NUMPY ARRAYS**"
      ],
      "metadata": {
        "id": "gs0jsy4x4TTf"
      }
    },
    {
      "cell_type": "code",
      "source": [
        "np1 = np.random.rand(3,4)\n",
        "np1"
      ],
      "metadata": {
        "colab": {
          "base_uri": "https://localhost:8080/"
        },
        "id": "QwhiEeW74Y2m",
        "outputId": "5db45c71-eae1-43e9-c128-9250636d1402"
      },
      "execution_count": null,
      "outputs": [
        {
          "output_type": "execute_result",
          "data": {
            "text/plain": [
              "array([[0.15244371, 0.28984657, 0.25881455, 0.10045337],\n",
              "       [0.20154704, 0.12334399, 0.6510814 , 0.33666885],\n",
              "       [0.38102326, 0.93383144, 0.13638651, 0.86460491]])"
            ]
          },
          "metadata": {},
          "execution_count": 127
        }
      ]
    },
    {
      "cell_type": "code",
      "source": [
        "np1.dtype"
      ],
      "metadata": {
        "colab": {
          "base_uri": "https://localhost:8080/"
        },
        "id": "zFJc1zbA4f-Z",
        "outputId": "7cedf609-c2af-4650-edfa-1a956184bf73"
      },
      "execution_count": null,
      "outputs": [
        {
          "output_type": "execute_result",
          "data": {
            "text/plain": [
              "dtype('float64')"
            ]
          },
          "metadata": {},
          "execution_count": 128
        }
      ]
    },
    {
      "cell_type": "markdown",
      "source": [
        "**TENSORS**"
      ],
      "metadata": {
        "id": "bP4p-Kpn4i3h"
      }
    },
    {
      "cell_type": "code",
      "source": [
        "tensor_2d = torch.randn(3,4)\n",
        "tensor_2d\n",
        "#tensor_2d.dtype"
      ],
      "metadata": {
        "colab": {
          "base_uri": "https://localhost:8080/"
        },
        "id": "IE8kDMmZ4nhy",
        "outputId": "af2c472c-df72-41f2-b166-e9c9c60e3d46"
      },
      "execution_count": null,
      "outputs": [
        {
          "output_type": "execute_result",
          "data": {
            "text/plain": [
              "tensor([[ 0.4915, -1.1260, -0.2039,  0.2572],\n",
              "        [-0.9172,  1.5492, -0.6579, -0.6930],\n",
              "        [ 0.9137,  0.3244, -0.1374,  1.2842]])"
            ]
          },
          "metadata": {},
          "execution_count": 129
        }
      ]
    },
    {
      "cell_type": "code",
      "source": [
        "tensor_3d = torch.zeros(2,3,4)\n",
        "tensor_3d"
      ],
      "metadata": {
        "colab": {
          "base_uri": "https://localhost:8080/"
        },
        "id": "dfES0WFu4xxO",
        "outputId": "29934302-57de-4501-b4ee-ef53b466fadf"
      },
      "execution_count": null,
      "outputs": [
        {
          "output_type": "execute_result",
          "data": {
            "text/plain": [
              "tensor([[[0., 0., 0., 0.],\n",
              "         [0., 0., 0., 0.],\n",
              "         [0., 0., 0., 0.]],\n",
              "\n",
              "        [[0., 0., 0., 0.],\n",
              "         [0., 0., 0., 0.],\n",
              "         [0., 0., 0., 0.]]])"
            ]
          },
          "metadata": {},
          "execution_count": 130
        }
      ]
    },
    {
      "cell_type": "code",
      "source": [
        "## Create tensor out of numpy array\n",
        "my_tensor = torch.tensor(np1)\n",
        "my_tensor"
      ],
      "metadata": {
        "colab": {
          "base_uri": "https://localhost:8080/"
        },
        "id": "7j6sdNar421-",
        "outputId": "d3defb00-9b97-4fba-d8d7-30902efdd8c4"
      },
      "execution_count": null,
      "outputs": [
        {
          "output_type": "execute_result",
          "data": {
            "text/plain": [
              "tensor([[0.1524, 0.2898, 0.2588, 0.1005],\n",
              "        [0.2015, 0.1233, 0.6511, 0.3367],\n",
              "        [0.3810, 0.9338, 0.1364, 0.8646]], dtype=torch.float64)"
            ]
          },
          "metadata": {},
          "execution_count": 131
        }
      ]
    },
    {
      "cell_type": "markdown",
      "source": [
        "*for more information refer documentation:*\n",
        "https://pytorch.org/docs/stable/tensors.html"
      ],
      "metadata": {
        "id": "uzXaP32J5jv6"
      }
    },
    {
      "cell_type": "markdown",
      "source": [
        "**TENSOR OPERATIONS**\n",
        "\n",
        "*   Shape and View\n",
        "*   Grabbing Items\n",
        "*   Basic Slices\n",
        "\n",
        "\n",
        "\n",
        "\n",
        "\n",
        "\n",
        "\n",
        "\n"
      ],
      "metadata": {
        "id": "Ccov9d4z6ums"
      }
    },
    {
      "cell_type": "code",
      "source": [
        "import torch\n",
        "my_torch = torch.arange(10)\n",
        "my_torch"
      ],
      "metadata": {
        "colab": {
          "base_uri": "https://localhost:8080/"
        },
        "id": "J3prmHRZ7A3w",
        "outputId": "c9e188a7-6519-4122-c870-be47ddb08c8a"
      },
      "execution_count": null,
      "outputs": [
        {
          "output_type": "execute_result",
          "data": {
            "text/plain": [
              "tensor([0, 1, 2, 3, 4, 5, 6, 7, 8, 9])"
            ]
          },
          "metadata": {},
          "execution_count": 132
        }
      ]
    },
    {
      "cell_type": "code",
      "source": [
        "# Reshape and View\n",
        "my_torch = my_torch.reshape(2,5)\n",
        "my_torch"
      ],
      "metadata": {
        "colab": {
          "base_uri": "https://localhost:8080/"
        },
        "id": "1AYFd68B7NMw",
        "outputId": "e8a99243-66eb-463f-e571-256340287eef"
      },
      "execution_count": null,
      "outputs": [
        {
          "output_type": "execute_result",
          "data": {
            "text/plain": [
              "tensor([[0, 1, 2, 3, 4],\n",
              "        [5, 6, 7, 8, 9]])"
            ]
          },
          "metadata": {},
          "execution_count": 133
        }
      ]
    },
    {
      "cell_type": "code",
      "source": [
        "# Reshape if we don't know the number of items using -1\n",
        "my_torch2 = torch.arange(10)\n",
        "my_torch2"
      ],
      "metadata": {
        "colab": {
          "base_uri": "https://localhost:8080/"
        },
        "id": "UEgs4Sgo9FrM",
        "outputId": "6521dc92-9bca-425d-e05a-7be4cb4d4886"
      },
      "execution_count": null,
      "outputs": [
        {
          "output_type": "execute_result",
          "data": {
            "text/plain": [
              "tensor([0, 1, 2, 3, 4, 5, 6, 7, 8, 9])"
            ]
          },
          "metadata": {},
          "execution_count": 134
        }
      ]
    },
    {
      "cell_type": "code",
      "source": [
        "my_torch2 = my_torch2.reshape(-1,5)\n",
        "my_torch2"
      ],
      "metadata": {
        "colab": {
          "base_uri": "https://localhost:8080/"
        },
        "id": "frIZiC-z9MFv",
        "outputId": "15a7dd5e-a650-4b70-b9e4-4d6ae5dbda66"
      },
      "execution_count": null,
      "outputs": [
        {
          "output_type": "execute_result",
          "data": {
            "text/plain": [
              "tensor([[0, 1, 2, 3, 4],\n",
              "        [5, 6, 7, 8, 9]])"
            ]
          },
          "metadata": {},
          "execution_count": 135
        }
      ]
    },
    {
      "cell_type": "code",
      "source": [
        "my_torch2 = my_torch2.reshape(2,-1)\n",
        "my_torch2"
      ],
      "metadata": {
        "colab": {
          "base_uri": "https://localhost:8080/"
        },
        "id": "sjYAZydd9OWN",
        "outputId": "68105315-6668-4367-e51a-0399d29288ac"
      },
      "execution_count": null,
      "outputs": [
        {
          "output_type": "execute_result",
          "data": {
            "text/plain": [
              "tensor([[0, 1, 2, 3, 4],\n",
              "        [5, 6, 7, 8, 9]])"
            ]
          },
          "metadata": {},
          "execution_count": 136
        }
      ]
    },
    {
      "cell_type": "code",
      "source": [
        "my_torch3 = torch.arange(10)\n",
        "my_torch3"
      ],
      "metadata": {
        "colab": {
          "base_uri": "https://localhost:8080/"
        },
        "id": "YtGA0OrS9TJ-",
        "outputId": "ec8d702b-d784-4cf8-967b-50ef38010f0e"
      },
      "execution_count": null,
      "outputs": [
        {
          "output_type": "execute_result",
          "data": {
            "text/plain": [
              "tensor([0, 1, 2, 3, 4, 5, 6, 7, 8, 9])"
            ]
          },
          "metadata": {},
          "execution_count": 137
        }
      ]
    },
    {
      "cell_type": "code",
      "source": [
        "my_torch4 = my_torch3.view(2,5)\n",
        "my_torch4"
      ],
      "metadata": {
        "colab": {
          "base_uri": "https://localhost:8080/"
        },
        "id": "kVKhgkAs9a97",
        "outputId": "9d753847-3253-4800-85d7-dafafc6adf9e"
      },
      "execution_count": null,
      "outputs": [
        {
          "output_type": "execute_result",
          "data": {
            "text/plain": [
              "tensor([[0, 1, 2, 3, 4],\n",
              "        [5, 6, 7, 8, 9]])"
            ]
          },
          "metadata": {},
          "execution_count": 138
        }
      ]
    },
    {
      "cell_type": "markdown",
      "source": [
        "In PyTorch, `shape` and `view` are terms associated with tensor manipulation, but they serve different purposes:\n",
        "\n",
        "### 1. `shape`:\n",
        "- **Purpose**: The `shape` attribute provides the dimensions of a tensor.\n",
        "- **Functionality**: It returns a tuple representing the size of each dimension of the tensor.\n",
        "- **Usage**: Used to inspect the size of a tensor.\n",
        "  \n",
        "**Example**:\n",
        "```python\n",
        "import torch\n",
        "\n",
        "tensor = torch.tensor([[1, 2, 3], [4, 5, 6]])\n",
        "print(tensor.shape)  # Output: torch.Size([2, 3])\n",
        "```\n",
        "Here, `shape` returns `(2, 3)`, meaning the tensor has 2 rows and 3 columns.\n",
        "\n",
        "### 2. `view`:\n",
        "- **Purpose**: The `view` method is used to reshape a tensor without changing its data.\n",
        "- **Functionality**: It returns a new tensor with the same data but in a different shape. The number of elements must remain the same.\n",
        "- **Usage**: Used to create a new tensor with a different shape from the original.\n",
        "\n",
        "**Example**:\n",
        "```python\n",
        "tensor = torch.tensor([[1, 2, 3], [4, 5, 6]])\n",
        "reshaped_tensor = tensor.view(3, 2)\n",
        "print(reshaped_tensor)\n",
        "```\n",
        "Output:\n",
        "```\n",
        "tensor([[1, 2],\n",
        "        [3, 4],\n",
        "        [5, 6]])\n",
        "```\n",
        "Here, `view(3, 2)` reshapes the original tensor into a new tensor with 3 rows and 2 columns.\n",
        "\n",
        "### Key Differences:\n",
        "- **Shape** is an attribute that tells you the dimensions of a tensor, while **view** is a method that allows you to change the shape of a tensor.\n",
        "- **Shape** is read-only; you use it to get information about the tensor. **View** is used to create a new tensor with a different shape based on the original tensor."
      ],
      "metadata": {
        "id": "Ljp5UAyN-NX2"
      }
    },
    {
      "cell_type": "code",
      "source": [
        "# with reshape and view, they will update\n",
        "my_torch5 = torch.arange(10)\n",
        "my_torch5"
      ],
      "metadata": {
        "colab": {
          "base_uri": "https://localhost:8080/"
        },
        "id": "Kf_ojzYJ-TRs",
        "outputId": "0a88cf35-a027-433e-8e75-35d858211864"
      },
      "execution_count": null,
      "outputs": [
        {
          "output_type": "execute_result",
          "data": {
            "text/plain": [
              "tensor([0, 1, 2, 3, 4, 5, 6, 7, 8, 9])"
            ]
          },
          "metadata": {},
          "execution_count": 139
        }
      ]
    },
    {
      "cell_type": "code",
      "source": [
        "my_torch6 = my_torch5.reshape(2,5)\n",
        "my_torch6"
      ],
      "metadata": {
        "colab": {
          "base_uri": "https://localhost:8080/"
        },
        "id": "FjWkf3hF-zbC",
        "outputId": "2094213a-cf60-41e5-daf2-5e684f0166bb"
      },
      "execution_count": null,
      "outputs": [
        {
          "output_type": "execute_result",
          "data": {
            "text/plain": [
              "tensor([[0, 1, 2, 3, 4],\n",
              "        [5, 6, 7, 8, 9]])"
            ]
          },
          "metadata": {},
          "execution_count": 140
        }
      ]
    },
    {
      "cell_type": "code",
      "source": [
        "my_torch5[1] = 4141\n",
        "my_torch5"
      ],
      "metadata": {
        "colab": {
          "base_uri": "https://localhost:8080/"
        },
        "id": "k0vttj0b-428",
        "outputId": "8360abb5-e705-4adc-ef9f-580e324bb66f"
      },
      "execution_count": null,
      "outputs": [
        {
          "output_type": "execute_result",
          "data": {
            "text/plain": [
              "tensor([   0, 4141,    2,    3,    4,    5,    6,    7,    8,    9])"
            ]
          },
          "metadata": {},
          "execution_count": 141
        }
      ]
    },
    {
      "cell_type": "code",
      "source": [
        "my_torch6"
      ],
      "metadata": {
        "colab": {
          "base_uri": "https://localhost:8080/"
        },
        "id": "2iQjnrww-8qC",
        "outputId": "f6746d6c-d8d0-4e18-966d-97b386375d5a"
      },
      "execution_count": null,
      "outputs": [
        {
          "output_type": "execute_result",
          "data": {
            "text/plain": [
              "tensor([[   0, 4141,    2,    3,    4],\n",
              "        [   5,    6,    7,    8,    9]])"
            ]
          },
          "metadata": {},
          "execution_count": 142
        }
      ]
    },
    {
      "cell_type": "code",
      "source": [
        "# Slices\n",
        "my_torch7 = torch.arange(10)\n",
        "# Grab a specific item\n",
        "my_torch7[7]"
      ],
      "metadata": {
        "colab": {
          "base_uri": "https://localhost:8080/"
        },
        "id": "99K3LE-5A5E2",
        "outputId": "50ad023d-4fbe-4852-d31f-32419067a953"
      },
      "execution_count": null,
      "outputs": [
        {
          "output_type": "execute_result",
          "data": {
            "text/plain": [
              "tensor(7)"
            ]
          },
          "metadata": {},
          "execution_count": 143
        }
      ]
    },
    {
      "cell_type": "code",
      "source": [
        "# Grab slice\n",
        "my_torch8 = my_torch7.reshape(5,2)\n",
        "my_torch8"
      ],
      "metadata": {
        "colab": {
          "base_uri": "https://localhost:8080/"
        },
        "id": "DSR00rPiBGbx",
        "outputId": "00186438-5b24-4162-94f1-1815dbdd0fdc"
      },
      "execution_count": null,
      "outputs": [
        {
          "output_type": "execute_result",
          "data": {
            "text/plain": [
              "tensor([[0, 1],\n",
              "        [2, 3],\n",
              "        [4, 5],\n",
              "        [6, 7],\n",
              "        [8, 9]])"
            ]
          },
          "metadata": {},
          "execution_count": 144
        }
      ]
    },
    {
      "cell_type": "code",
      "source": [
        "my_torch8[:,1]#The colon : selects all rows in the tensor.The 1 selects the second column (indexing starts from 0)."
      ],
      "metadata": {
        "colab": {
          "base_uri": "https://localhost:8080/"
        },
        "id": "ouhPSmJFBLmZ",
        "outputId": "142cdc4c-b3f4-40b0-80f6-2cd13f372207"
      },
      "execution_count": null,
      "outputs": [
        {
          "output_type": "execute_result",
          "data": {
            "text/plain": [
              "tensor([1, 3, 5, 7, 9])"
            ]
          },
          "metadata": {},
          "execution_count": 145
        }
      ]
    },
    {
      "cell_type": "code",
      "source": [
        "# Return column\n",
        "my_torch8[:,1:] #it keeps the result in a 2D structure, resulting in a tensor of shape (5, 1)"
      ],
      "metadata": {
        "colab": {
          "base_uri": "https://localhost:8080/"
        },
        "id": "QLUIm2vwBm6d",
        "outputId": "f49e8544-4c90-4d30-ee30-8c496b7b6190"
      },
      "execution_count": null,
      "outputs": [
        {
          "output_type": "execute_result",
          "data": {
            "text/plain": [
              "tensor([[1],\n",
              "        [3],\n",
              "        [5],\n",
              "        [7],\n",
              "        [9]])"
            ]
          },
          "metadata": {},
          "execution_count": 146
        }
      ]
    },
    {
      "cell_type": "markdown",
      "source": [
        "**TENSOR MATH OPERATIONS**\n",
        "\n",
        "*   Add, Subtract, Multiply, Divide, Remainders, Exponents\n",
        "*   Shorthand and uh, Longhand\n",
        "*   Reassignment"
      ],
      "metadata": {
        "id": "YGg2vhisB-hT"
      }
    },
    {
      "cell_type": "code",
      "source": [
        "import torch\n",
        "import numpy as np"
      ],
      "metadata": {
        "id": "VvXy_wxoCO43"
      },
      "execution_count": null,
      "outputs": []
    },
    {
      "cell_type": "code",
      "source": [
        "tensor_a = torch.tensor([1,2,3,4])\n",
        "tensor_b = torch.tensor([5,6,7,8])"
      ],
      "metadata": {
        "id": "WGssKe3QFAnw"
      },
      "execution_count": null,
      "outputs": []
    },
    {
      "cell_type": "code",
      "source": [
        "# Addition\n",
        "tensor_a + tensor_b"
      ],
      "metadata": {
        "colab": {
          "base_uri": "https://localhost:8080/"
        },
        "id": "pVIZvBMXFD9H",
        "outputId": "7570f5ce-5bb0-4365-9ed6-e9358d034294"
      },
      "execution_count": null,
      "outputs": [
        {
          "output_type": "execute_result",
          "data": {
            "text/plain": [
              "tensor([ 6,  8, 10, 12])"
            ]
          },
          "metadata": {},
          "execution_count": 149
        }
      ]
    },
    {
      "cell_type": "code",
      "source": [
        "# Addition Longhand\n",
        "torch.add(tensor_a, tensor_b)"
      ],
      "metadata": {
        "colab": {
          "base_uri": "https://localhost:8080/"
        },
        "id": "Kp8VYOKnFIek",
        "outputId": "a15c4bfd-3214-4ed4-e71d-fb3f6aa3a237"
      },
      "execution_count": null,
      "outputs": [
        {
          "output_type": "execute_result",
          "data": {
            "text/plain": [
              "tensor([ 6,  8, 10, 12])"
            ]
          },
          "metadata": {},
          "execution_count": 150
        }
      ]
    },
    {
      "cell_type": "code",
      "source": [
        "# Subtraction\n",
        "tensor_b - tensor_a"
      ],
      "metadata": {
        "colab": {
          "base_uri": "https://localhost:8080/"
        },
        "id": "NwR3B5f3FOSG",
        "outputId": "327ce768-9b79-432e-8b4d-7afd5cb6b759"
      },
      "execution_count": null,
      "outputs": [
        {
          "output_type": "execute_result",
          "data": {
            "text/plain": [
              "tensor([4, 4, 4, 4])"
            ]
          },
          "metadata": {},
          "execution_count": 151
        }
      ]
    },
    {
      "cell_type": "code",
      "source": [
        "# Sub Longhand\n",
        "torch.sub(tensor_b, tensor_a)"
      ],
      "metadata": {
        "colab": {
          "base_uri": "https://localhost:8080/"
        },
        "id": "TN3M4OZEFT4N",
        "outputId": "4e10404a-2e48-4c0d-8bea-4928df439857"
      },
      "execution_count": null,
      "outputs": [
        {
          "output_type": "execute_result",
          "data": {
            "text/plain": [
              "tensor([4, 4, 4, 4])"
            ]
          },
          "metadata": {},
          "execution_count": 152
        }
      ]
    },
    {
      "cell_type": "code",
      "source": [
        "# Multiplication\n",
        "tensor_a * tensor_b"
      ],
      "metadata": {
        "colab": {
          "base_uri": "https://localhost:8080/"
        },
        "id": "2zNHii9nFyVB",
        "outputId": "369bc45a-b0cc-4ab7-bd0b-6d0b62851d4d"
      },
      "execution_count": null,
      "outputs": [
        {
          "output_type": "execute_result",
          "data": {
            "text/plain": [
              "tensor([ 5, 12, 21, 32])"
            ]
          },
          "metadata": {},
          "execution_count": 153
        }
      ]
    },
    {
      "cell_type": "code",
      "source": [
        "# Mul longhand\n",
        "torch.mul(tensor_a, tensor_b)"
      ],
      "metadata": {
        "colab": {
          "base_uri": "https://localhost:8080/"
        },
        "id": "x8fAWUu-F3Z1",
        "outputId": "c284f4e9-664d-4697-8706-881c5175eee3"
      },
      "execution_count": null,
      "outputs": [
        {
          "output_type": "execute_result",
          "data": {
            "text/plain": [
              "tensor([ 5, 12, 21, 32])"
            ]
          },
          "metadata": {},
          "execution_count": 154
        }
      ]
    },
    {
      "cell_type": "code",
      "source": [
        "# Division\n",
        "tensor_b / tensor_a"
      ],
      "metadata": {
        "colab": {
          "base_uri": "https://localhost:8080/"
        },
        "id": "3etuWnQZF59z",
        "outputId": "33198ac1-061c-4afd-aa35-d04d452c85ad"
      },
      "execution_count": null,
      "outputs": [
        {
          "output_type": "execute_result",
          "data": {
            "text/plain": [
              "tensor([5.0000, 3.0000, 2.3333, 2.0000])"
            ]
          },
          "metadata": {},
          "execution_count": 155
        }
      ]
    },
    {
      "cell_type": "code",
      "source": [
        "# Div Longhand\n",
        "torch.div(tensor_b, tensor_a)"
      ],
      "metadata": {
        "colab": {
          "base_uri": "https://localhost:8080/"
        },
        "id": "3TXcSOx2F_w8",
        "outputId": "4ae9e481-27af-49d8-c604-5ffd4666e1aa"
      },
      "execution_count": null,
      "outputs": [
        {
          "output_type": "execute_result",
          "data": {
            "text/plain": [
              "tensor([5.0000, 3.0000, 2.3333, 2.0000])"
            ]
          },
          "metadata": {},
          "execution_count": 156
        }
      ]
    },
    {
      "cell_type": "code",
      "source": [
        "# Remainder Modulus\n",
        "tensor_b % tensor_a"
      ],
      "metadata": {
        "colab": {
          "base_uri": "https://localhost:8080/"
        },
        "id": "xQpiEBaCGDOa",
        "outputId": "bbc2a0fd-b73c-4075-b9f6-543133cead39"
      },
      "execution_count": null,
      "outputs": [
        {
          "output_type": "execute_result",
          "data": {
            "text/plain": [
              "tensor([0, 0, 1, 0])"
            ]
          },
          "metadata": {},
          "execution_count": 157
        }
      ]
    },
    {
      "cell_type": "code",
      "source": [
        "# Remainder longhand\n",
        "torch.remainder(tensor_b, tensor_a)"
      ],
      "metadata": {
        "colab": {
          "base_uri": "https://localhost:8080/"
        },
        "id": "8xTxEpxoGHTV",
        "outputId": "38713f11-b41d-48a5-c729-968a3cc55f84"
      },
      "execution_count": null,
      "outputs": [
        {
          "output_type": "execute_result",
          "data": {
            "text/plain": [
              "tensor([0, 0, 1, 0])"
            ]
          },
          "metadata": {},
          "execution_count": 158
        }
      ]
    },
    {
      "cell_type": "code",
      "source": [
        "# Exponents / power\n",
        "torch.pow(tensor_a, tensor_b)"
      ],
      "metadata": {
        "colab": {
          "base_uri": "https://localhost:8080/"
        },
        "id": "lUqT5uprGLWV",
        "outputId": "77d8b92f-b29c-4f70-c79e-9c90cf3907b3"
      },
      "execution_count": null,
      "outputs": [
        {
          "output_type": "execute_result",
          "data": {
            "text/plain": [
              "tensor([    1,    64,  2187, 65536])"
            ]
          },
          "metadata": {},
          "execution_count": 159
        }
      ]
    },
    {
      "cell_type": "code",
      "source": [
        "# Another way to write longhand\n",
        "tensor_a.add(tensor_b)"
      ],
      "metadata": {
        "colab": {
          "base_uri": "https://localhost:8080/"
        },
        "id": "xag4K6IdGPTK",
        "outputId": "780fb7a1-ecb3-4630-acaf-a844d042c6b4"
      },
      "execution_count": null,
      "outputs": [
        {
          "output_type": "execute_result",
          "data": {
            "text/plain": [
              "tensor([ 6,  8, 10, 12])"
            ]
          },
          "metadata": {},
          "execution_count": 160
        }
      ]
    },
    {
      "cell_type": "code",
      "source": [
        "# Reassignment_( _ is used)\n",
        "tensor_a + tensor_b"
      ],
      "metadata": {
        "colab": {
          "base_uri": "https://localhost:8080/"
        },
        "id": "zPSUuDv5GX6M",
        "outputId": "c6efb361-3816-4049-8469-a5c28ccc6e72"
      },
      "execution_count": null,
      "outputs": [
        {
          "output_type": "execute_result",
          "data": {
            "text/plain": [
              "tensor([ 6,  8, 10, 12])"
            ]
          },
          "metadata": {},
          "execution_count": 161
        }
      ]
    },
    {
      "cell_type": "code",
      "source": [
        "tensor_a"
      ],
      "metadata": {
        "colab": {
          "base_uri": "https://localhost:8080/"
        },
        "id": "ONnIgJgWGdUV",
        "outputId": "11b1d3c3-d643-4428-eca4-05c016ea81b3"
      },
      "execution_count": null,
      "outputs": [
        {
          "output_type": "execute_result",
          "data": {
            "text/plain": [
              "tensor([1, 2, 3, 4])"
            ]
          },
          "metadata": {},
          "execution_count": 162
        }
      ]
    },
    {
      "cell_type": "code",
      "source": [
        "#tensor_a = tensor_a + tensor_b\n",
        "tensor_a.add_(tensor_b) #add_ ( _ is used for reassignment)"
      ],
      "metadata": {
        "colab": {
          "base_uri": "https://localhost:8080/"
        },
        "id": "33g9IVbWGleM",
        "outputId": "845bcaed-3ae0-4f70-daed-89febc6a790e"
      },
      "execution_count": null,
      "outputs": [
        {
          "output_type": "execute_result",
          "data": {
            "text/plain": [
              "tensor([ 6,  8, 10, 12])"
            ]
          },
          "metadata": {},
          "execution_count": 163
        }
      ]
    },
    {
      "cell_type": "code",
      "source": [
        "tensor_a"
      ],
      "metadata": {
        "colab": {
          "base_uri": "https://localhost:8080/"
        },
        "id": "ugRfqg6IGzJW",
        "outputId": "f63043bb-a6ab-4f0d-ded8-4417e4ad341a"
      },
      "execution_count": null,
      "outputs": [
        {
          "output_type": "execute_result",
          "data": {
            "text/plain": [
              "tensor([ 6,  8, 10, 12])"
            ]
          },
          "metadata": {},
          "execution_count": 164
        }
      ]
    },
    {
      "cell_type": "markdown",
      "source": [
        "**Neural networks** are a type of computer system inspired by how the human brain works. They are made up of layers of interconnected \"neurons\" that process information.\n",
        "\n",
        "### How They Work:\n",
        "1. **Input Layer**: The first layer receives the initial data (e.g., an image, a piece of text).\n",
        "2. **Hidden Layers**: These layers process the data through a series of mathematical operations. The network learns patterns from the data during this step.\n",
        "3. **Output Layer**: The final layer produces a result, like identifying an object in an image or predicting a number.\n",
        "\n",
        "### Key Concepts:\n",
        "- **Neurons**: Each neuron is a simple processing unit that takes input, does some math on it, and passes the result to the next layer.\n",
        "- **Weights**: Connections between neurons have weights, which are adjusted as the network learns. These weights determine how much influence one neuron has on another.\n",
        "- **Training**: Neural networks learn by adjusting the weights using examples and feedback (known as training). The goal is to minimize errors in the network's predictions.\n",
        "\n",
        "### Example:\n",
        "Imagine you're teaching a neural network to recognize pictures of cats. You show it thousands of pictures labeled as \"cat\" or \"not a cat.\" Over time, the network learns to identify features that are common in cat pictures (like whiskers or ears) and can start to correctly classify new pictures.\n",
        "\n",
        "Neural networks are used in many applications, including image recognition, speech recognition, and even playing games."
      ],
      "metadata": {
        "id": "zsNTNz6cIQxF"
      }
    },
    {
      "cell_type": "markdown",
      "source": [
        "![image.png](data:image/png;base64,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)"
      ],
      "metadata": {
        "id": "KPR86lTtLZQV"
      }
    },
    {
      "cell_type": "markdown",
      "source": [
        "**SIMPLE ARTIFICIAL NEURAL NETWORK IMPLEMENTATION**\n",
        "\n",
        "dataset: Iris dataset"
      ],
      "metadata": {
        "id": "7XcdFW15MY9y"
      }
    },
    {
      "cell_type": "code",
      "source": [
        "import torch\n",
        "import torch.nn as nn\n",
        "import torch.nn.functional as F"
      ],
      "metadata": {
        "id": "EwUXVfktM0tM"
      },
      "execution_count": null,
      "outputs": []
    },
    {
      "cell_type": "code",
      "source": [
        "# Create a Model Class that inherits nn.Module\n",
        "class Model(nn.Module):\n",
        "  # Input layer (4 features of the flower) -->\n",
        "  # Hidden Layer1 (number of neurons) -->\n",
        "  # H2 (n) -->\n",
        "  # output (3 classes of iris flowers)\n",
        "  def __init__(self, in_features=4, h1=8, h2=9, out_features=3):\n",
        "    super().__init__() # instantiate our nn.Module\n",
        "    self.fc1 = nn.Linear(in_features, h1)\n",
        "    self.fc2 = nn.Linear(h1, h2)\n",
        "    self.out = nn.Linear(h2, out_features)\n",
        "\n",
        "  def forward(self, x):\n",
        "    x = F.relu(self.fc1(x))\n",
        "    x = F.relu(self.fc2(x))\n",
        "    x = self.out(x)\n",
        "\n",
        "    return x"
      ],
      "metadata": {
        "id": "G21sTs3FM6SD"
      },
      "execution_count": null,
      "outputs": []
    },
    {
      "cell_type": "code",
      "source": [
        "# Pick a manual seed for randomization\n",
        "torch.manual_seed(41)\n",
        "# Create an instance of model\n",
        "model = Model()"
      ],
      "metadata": {
        "id": "VUidTiRURj5a"
      },
      "execution_count": null,
      "outputs": []
    },
    {
      "cell_type": "code",
      "source": [
        "import pandas as pd\n",
        "import matplotlib.pyplot as plt\n",
        "%matplotlib inline"
      ],
      "metadata": {
        "id": "1YdPkLINRlsz"
      },
      "execution_count": null,
      "outputs": []
    },
    {
      "cell_type": "code",
      "source": [
        "url = 'https://gist.githubusercontent.com/netj/8836201/raw/6f9306ad21398ea43cba4f7d537619d0e07d5ae3/iris.csv'\n",
        "my_df = pd.read_csv(url)"
      ],
      "metadata": {
        "id": "GhsXnT9QRsk2"
      },
      "execution_count": null,
      "outputs": []
    },
    {
      "cell_type": "code",
      "source": [
        "my_df.tail()"
      ],
      "metadata": {
        "colab": {
          "base_uri": "https://localhost:8080/",
          "height": 206
        },
        "id": "qrMwNoZrTaek",
        "outputId": "a50b1fe7-2860-455d-b684-fcc5a1f63f90"
      },
      "execution_count": null,
      "outputs": [
        {
          "output_type": "execute_result",
          "data": {
            "text/plain": [
              "     sepal.length  sepal.width  petal.length  petal.width    variety\n",
              "145           6.7          3.0           5.2          2.3  Virginica\n",
              "146           6.3          2.5           5.0          1.9  Virginica\n",
              "147           6.5          3.0           5.2          2.0  Virginica\n",
              "148           6.2          3.4           5.4          2.3  Virginica\n",
              "149           5.9          3.0           5.1          1.8  Virginica"
            ],
            "text/html": [
              "\n",
              "  <div id=\"df-5500630f-9258-4da6-9c4a-63e61a358e86\" class=\"colab-df-container\">\n",
              "    <div>\n",
              "<style scoped>\n",
              "    .dataframe tbody tr th:only-of-type {\n",
              "        vertical-align: middle;\n",
              "    }\n",
              "\n",
              "    .dataframe tbody tr th {\n",
              "        vertical-align: top;\n",
              "    }\n",
              "\n",
              "    .dataframe thead th {\n",
              "        text-align: right;\n",
              "    }\n",
              "</style>\n",
              "<table border=\"1\" class=\"dataframe\">\n",
              "  <thead>\n",
              "    <tr style=\"text-align: right;\">\n",
              "      <th></th>\n",
              "      <th>sepal.length</th>\n",
              "      <th>sepal.width</th>\n",
              "      <th>petal.length</th>\n",
              "      <th>petal.width</th>\n",
              "      <th>variety</th>\n",
              "    </tr>\n",
              "  </thead>\n",
              "  <tbody>\n",
              "    <tr>\n",
              "      <th>145</th>\n",
              "      <td>6.7</td>\n",
              "      <td>3.0</td>\n",
              "      <td>5.2</td>\n",
              "      <td>2.3</td>\n",
              "      <td>Virginica</td>\n",
              "    </tr>\n",
              "    <tr>\n",
              "      <th>146</th>\n",
              "      <td>6.3</td>\n",
              "      <td>2.5</td>\n",
              "      <td>5.0</td>\n",
              "      <td>1.9</td>\n",
              "      <td>Virginica</td>\n",
              "    </tr>\n",
              "    <tr>\n",
              "      <th>147</th>\n",
              "      <td>6.5</td>\n",
              "      <td>3.0</td>\n",
              "      <td>5.2</td>\n",
              "      <td>2.0</td>\n",
              "      <td>Virginica</td>\n",
              "    </tr>\n",
              "    <tr>\n",
              "      <th>148</th>\n",
              "      <td>6.2</td>\n",
              "      <td>3.4</td>\n",
              "      <td>5.4</td>\n",
              "      <td>2.3</td>\n",
              "      <td>Virginica</td>\n",
              "    </tr>\n",
              "    <tr>\n",
              "      <th>149</th>\n",
              "      <td>5.9</td>\n",
              "      <td>3.0</td>\n",
              "      <td>5.1</td>\n",
              "      <td>1.8</td>\n",
              "      <td>Virginica</td>\n",
              "    </tr>\n",
              "  </tbody>\n",
              "</table>\n",
              "</div>\n",
              "    <div class=\"colab-df-buttons\">\n",
              "\n",
              "  <div class=\"colab-df-container\">\n",
              "    <button class=\"colab-df-convert\" onclick=\"convertToInteractive('df-5500630f-9258-4da6-9c4a-63e61a358e86')\"\n",
              "            title=\"Convert this dataframe to an interactive table.\"\n",
              "            style=\"display:none;\">\n",
              "\n",
              "  <svg xmlns=\"http://www.w3.org/2000/svg\" height=\"24px\" viewBox=\"0 -960 960 960\">\n",
              "    <path d=\"M120-120v-720h720v720H120Zm60-500h600v-160H180v160Zm220 220h160v-160H400v160Zm0 220h160v-160H400v160ZM180-400h160v-160H180v160Zm440 0h160v-160H620v160ZM180-180h160v-160H180v160Zm440 0h160v-160H620v160Z\"/>\n",
              "  </svg>\n",
              "    </button>\n",
              "\n",
              "  <style>\n",
              "    .colab-df-container {\n",
              "      display:flex;\n",
              "      gap: 12px;\n",
              "    }\n",
              "\n",
              "    .colab-df-convert {\n",
              "      background-color: #E8F0FE;\n",
              "      border: none;\n",
              "      border-radius: 50%;\n",
              "      cursor: pointer;\n",
              "      display: none;\n",
              "      fill: #1967D2;\n",
              "      height: 32px;\n",
              "      padding: 0 0 0 0;\n",
              "      width: 32px;\n",
              "    }\n",
              "\n",
              "    .colab-df-convert:hover {\n",
              "      background-color: #E2EBFA;\n",
              "      box-shadow: 0px 1px 2px rgba(60, 64, 67, 0.3), 0px 1px 3px 1px rgba(60, 64, 67, 0.15);\n",
              "      fill: #174EA6;\n",
              "    }\n",
              "\n",
              "    .colab-df-buttons div {\n",
              "      margin-bottom: 4px;\n",
              "    }\n",
              "\n",
              "    [theme=dark] .colab-df-convert {\n",
              "      background-color: #3B4455;\n",
              "      fill: #D2E3FC;\n",
              "    }\n",
              "\n",
              "    [theme=dark] .colab-df-convert:hover {\n",
              "      background-color: #434B5C;\n",
              "      box-shadow: 0px 1px 3px 1px rgba(0, 0, 0, 0.15);\n",
              "      filter: drop-shadow(0px 1px 2px rgba(0, 0, 0, 0.3));\n",
              "      fill: #FFFFFF;\n",
              "    }\n",
              "  </style>\n",
              "\n",
              "    <script>\n",
              "      const buttonEl =\n",
              "        document.querySelector('#df-5500630f-9258-4da6-9c4a-63e61a358e86 button.colab-df-convert');\n",
              "      buttonEl.style.display =\n",
              "        google.colab.kernel.accessAllowed ? 'block' : 'none';\n",
              "\n",
              "      async function convertToInteractive(key) {\n",
              "        const element = document.querySelector('#df-5500630f-9258-4da6-9c4a-63e61a358e86');\n",
              "        const dataTable =\n",
              "          await google.colab.kernel.invokeFunction('convertToInteractive',\n",
              "                                                    [key], {});\n",
              "        if (!dataTable) return;\n",
              "\n",
              "        const docLinkHtml = 'Like what you see? Visit the ' +\n",
              "          '<a target=\"_blank\" href=https://colab.research.google.com/notebooks/data_table.ipynb>data table notebook</a>'\n",
              "          + ' to learn more about interactive tables.';\n",
              "        element.innerHTML = '';\n",
              "        dataTable['output_type'] = 'display_data';\n",
              "        await google.colab.output.renderOutput(dataTable, element);\n",
              "        const docLink = document.createElement('div');\n",
              "        docLink.innerHTML = docLinkHtml;\n",
              "        element.appendChild(docLink);\n",
              "      }\n",
              "    </script>\n",
              "  </div>\n",
              "\n",
              "\n",
              "<div id=\"df-20633249-a732-4a61-a159-5c6a5a32e0e3\">\n",
              "  <button class=\"colab-df-quickchart\" onclick=\"quickchart('df-20633249-a732-4a61-a159-5c6a5a32e0e3')\"\n",
              "            title=\"Suggest charts\"\n",
              "            style=\"display:none;\">\n",
              "\n",
              "<svg xmlns=\"http://www.w3.org/2000/svg\" height=\"24px\"viewBox=\"0 0 24 24\"\n",
              "     width=\"24px\">\n",
              "    <g>\n",
              "        <path d=\"M19 3H5c-1.1 0-2 .9-2 2v14c0 1.1.9 2 2 2h14c1.1 0 2-.9 2-2V5c0-1.1-.9-2-2-2zM9 17H7v-7h2v7zm4 0h-2V7h2v10zm4 0h-2v-4h2v4z\"/>\n",
              "    </g>\n",
              "</svg>\n",
              "  </button>\n",
              "\n",
              "<style>\n",
              "  .colab-df-quickchart {\n",
              "      --bg-color: #E8F0FE;\n",
              "      --fill-color: #1967D2;\n",
              "      --hover-bg-color: #E2EBFA;\n",
              "      --hover-fill-color: #174EA6;\n",
              "      --disabled-fill-color: #AAA;\n",
              "      --disabled-bg-color: #DDD;\n",
              "  }\n",
              "\n",
              "  [theme=dark] .colab-df-quickchart {\n",
              "      --bg-color: #3B4455;\n",
              "      --fill-color: #D2E3FC;\n",
              "      --hover-bg-color: #434B5C;\n",
              "      --hover-fill-color: #FFFFFF;\n",
              "      --disabled-bg-color: #3B4455;\n",
              "      --disabled-fill-color: #666;\n",
              "  }\n",
              "\n",
              "  .colab-df-quickchart {\n",
              "    background-color: var(--bg-color);\n",
              "    border: none;\n",
              "    border-radius: 50%;\n",
              "    cursor: pointer;\n",
              "    display: none;\n",
              "    fill: var(--fill-color);\n",
              "    height: 32px;\n",
              "    padding: 0;\n",
              "    width: 32px;\n",
              "  }\n",
              "\n",
              "  .colab-df-quickchart:hover {\n",
              "    background-color: var(--hover-bg-color);\n",
              "    box-shadow: 0 1px 2px rgba(60, 64, 67, 0.3), 0 1px 3px 1px rgba(60, 64, 67, 0.15);\n",
              "    fill: var(--button-hover-fill-color);\n",
              "  }\n",
              "\n",
              "  .colab-df-quickchart-complete:disabled,\n",
              "  .colab-df-quickchart-complete:disabled:hover {\n",
              "    background-color: var(--disabled-bg-color);\n",
              "    fill: var(--disabled-fill-color);\n",
              "    box-shadow: none;\n",
              "  }\n",
              "\n",
              "  .colab-df-spinner {\n",
              "    border: 2px solid var(--fill-color);\n",
              "    border-color: transparent;\n",
              "    border-bottom-color: var(--fill-color);\n",
              "    animation:\n",
              "      spin 1s steps(1) infinite;\n",
              "  }\n",
              "\n",
              "  @keyframes spin {\n",
              "    0% {\n",
              "      border-color: transparent;\n",
              "      border-bottom-color: var(--fill-color);\n",
              "      border-left-color: var(--fill-color);\n",
              "    }\n",
              "    20% {\n",
              "      border-color: transparent;\n",
              "      border-left-color: var(--fill-color);\n",
              "      border-top-color: var(--fill-color);\n",
              "    }\n",
              "    30% {\n",
              "      border-color: transparent;\n",
              "      border-left-color: var(--fill-color);\n",
              "      border-top-color: var(--fill-color);\n",
              "      border-right-color: var(--fill-color);\n",
              "    }\n",
              "    40% {\n",
              "      border-color: transparent;\n",
              "      border-right-color: var(--fill-color);\n",
              "      border-top-color: var(--fill-color);\n",
              "    }\n",
              "    60% {\n",
              "      border-color: transparent;\n",
              "      border-right-color: var(--fill-color);\n",
              "    }\n",
              "    80% {\n",
              "      border-color: transparent;\n",
              "      border-right-color: var(--fill-color);\n",
              "      border-bottom-color: var(--fill-color);\n",
              "    }\n",
              "    90% {\n",
              "      border-color: transparent;\n",
              "      border-bottom-color: var(--fill-color);\n",
              "    }\n",
              "  }\n",
              "</style>\n",
              "\n",
              "  <script>\n",
              "    async function quickchart(key) {\n",
              "      const quickchartButtonEl =\n",
              "        document.querySelector('#' + key + ' button');\n",
              "      quickchartButtonEl.disabled = true;  // To prevent multiple clicks.\n",
              "      quickchartButtonEl.classList.add('colab-df-spinner');\n",
              "      try {\n",
              "        const charts = await google.colab.kernel.invokeFunction(\n",
              "            'suggestCharts', [key], {});\n",
              "      } catch (error) {\n",
              "        console.error('Error during call to suggestCharts:', error);\n",
              "      }\n",
              "      quickchartButtonEl.classList.remove('colab-df-spinner');\n",
              "      quickchartButtonEl.classList.add('colab-df-quickchart-complete');\n",
              "    }\n",
              "    (() => {\n",
              "      let quickchartButtonEl =\n",
              "        document.querySelector('#df-20633249-a732-4a61-a159-5c6a5a32e0e3 button');\n",
              "      quickchartButtonEl.style.display =\n",
              "        google.colab.kernel.accessAllowed ? 'block' : 'none';\n",
              "    })();\n",
              "  </script>\n",
              "</div>\n",
              "\n",
              "    </div>\n",
              "  </div>\n"
            ],
            "application/vnd.google.colaboratory.intrinsic+json": {
              "type": "dataframe",
              "summary": "{\n  \"name\": \"my_df\",\n  \"rows\": 5,\n  \"fields\": [\n    {\n      \"column\": \"sepal.length\",\n      \"properties\": {\n        \"dtype\": \"number\",\n        \"std\": 0.30331501776206193,\n        \"min\": 5.9,\n        \"max\": 6.7,\n        \"num_unique_values\": 5,\n        \"samples\": [\n          6.3,\n          5.9,\n          6.5\n        ],\n        \"semantic_type\": \"\",\n        \"description\": \"\"\n      }\n    },\n    {\n      \"column\": \"sepal.width\",\n      \"properties\": {\n        \"dtype\": \"number\",\n        \"std\": 0.31937438845342625,\n        \"min\": 2.5,\n        \"max\": 3.4,\n        \"num_unique_values\": 3,\n        \"samples\": [\n          3.0,\n          2.5,\n          3.4\n        ],\n        \"semantic_type\": \"\",\n        \"description\": \"\"\n      }\n    },\n    {\n      \"column\": \"petal.length\",\n      \"properties\": {\n        \"dtype\": \"number\",\n        \"std\": 0.14832396974191348,\n        \"min\": 5.0,\n        \"max\": 5.4,\n        \"num_unique_values\": 4,\n        \"samples\": [\n          5.0,\n          5.1,\n          5.2\n        ],\n        \"semantic_type\": \"\",\n        \"description\": \"\"\n      }\n    },\n    {\n      \"column\": \"petal.width\",\n      \"properties\": {\n        \"dtype\": \"number\",\n        \"std\": 0.23021728866442667,\n        \"min\": 1.8,\n        \"max\": 2.3,\n        \"num_unique_values\": 4,\n        \"samples\": [\n          1.9,\n          1.8,\n          2.3\n        ],\n        \"semantic_type\": \"\",\n        \"description\": \"\"\n      }\n    },\n    {\n      \"column\": \"variety\",\n      \"properties\": {\n        \"dtype\": \"category\",\n        \"num_unique_values\": 1,\n        \"samples\": [\n          \"Virginica\"\n        ],\n        \"semantic_type\": \"\",\n        \"description\": \"\"\n      }\n    }\n  ]\n}"
            }
          },
          "metadata": {},
          "execution_count": 170
        }
      ]
    },
    {
      "cell_type": "code",
      "source": [
        "# Change last column from strings to integers\n",
        "my_df['variety'] = my_df['variety'].replace('Setosa', 0.0)\n",
        "my_df['variety'] = my_df['variety'].replace('Versicolor', 1.0)\n",
        "my_df['variety'] = my_df['variety'].replace('Virginica', 2.0)\n",
        "my_df"
      ],
      "metadata": {
        "colab": {
          "base_uri": "https://localhost:8080/",
          "height": 423
        },
        "id": "IVBN-mHnTeSt",
        "outputId": "6bd8e542-cd95-489c-a10d-3e5d06e17f8d"
      },
      "execution_count": null,
      "outputs": [
        {
          "output_type": "execute_result",
          "data": {
            "text/plain": [
              "     sepal.length  sepal.width  petal.length  petal.width  variety\n",
              "0             5.1          3.5           1.4          0.2      0.0\n",
              "1             4.9          3.0           1.4          0.2      0.0\n",
              "2             4.7          3.2           1.3          0.2      0.0\n",
              "3             4.6          3.1           1.5          0.2      0.0\n",
              "4             5.0          3.6           1.4          0.2      0.0\n",
              "..            ...          ...           ...          ...      ...\n",
              "145           6.7          3.0           5.2          2.3      2.0\n",
              "146           6.3          2.5           5.0          1.9      2.0\n",
              "147           6.5          3.0           5.2          2.0      2.0\n",
              "148           6.2          3.4           5.4          2.3      2.0\n",
              "149           5.9          3.0           5.1          1.8      2.0\n",
              "\n",
              "[150 rows x 5 columns]"
            ],
            "text/html": [
              "\n",
              "  <div id=\"df-7101de97-68f5-42fb-a9d7-c3acdaf10ce0\" class=\"colab-df-container\">\n",
              "    <div>\n",
              "<style scoped>\n",
              "    .dataframe tbody tr th:only-of-type {\n",
              "        vertical-align: middle;\n",
              "    }\n",
              "\n",
              "    .dataframe tbody tr th {\n",
              "        vertical-align: top;\n",
              "    }\n",
              "\n",
              "    .dataframe thead th {\n",
              "        text-align: right;\n",
              "    }\n",
              "</style>\n",
              "<table border=\"1\" class=\"dataframe\">\n",
              "  <thead>\n",
              "    <tr style=\"text-align: right;\">\n",
              "      <th></th>\n",
              "      <th>sepal.length</th>\n",
              "      <th>sepal.width</th>\n",
              "      <th>petal.length</th>\n",
              "      <th>petal.width</th>\n",
              "      <th>variety</th>\n",
              "    </tr>\n",
              "  </thead>\n",
              "  <tbody>\n",
              "    <tr>\n",
              "      <th>0</th>\n",
              "      <td>5.1</td>\n",
              "      <td>3.5</td>\n",
              "      <td>1.4</td>\n",
              "      <td>0.2</td>\n",
              "      <td>0.0</td>\n",
              "    </tr>\n",
              "    <tr>\n",
              "      <th>1</th>\n",
              "      <td>4.9</td>\n",
              "      <td>3.0</td>\n",
              "      <td>1.4</td>\n",
              "      <td>0.2</td>\n",
              "      <td>0.0</td>\n",
              "    </tr>\n",
              "    <tr>\n",
              "      <th>2</th>\n",
              "      <td>4.7</td>\n",
              "      <td>3.2</td>\n",
              "      <td>1.3</td>\n",
              "      <td>0.2</td>\n",
              "      <td>0.0</td>\n",
              "    </tr>\n",
              "    <tr>\n",
              "      <th>3</th>\n",
              "      <td>4.6</td>\n",
              "      <td>3.1</td>\n",
              "      <td>1.5</td>\n",
              "      <td>0.2</td>\n",
              "      <td>0.0</td>\n",
              "    </tr>\n",
              "    <tr>\n",
              "      <th>4</th>\n",
              "      <td>5.0</td>\n",
              "      <td>3.6</td>\n",
              "      <td>1.4</td>\n",
              "      <td>0.2</td>\n",
              "      <td>0.0</td>\n",
              "    </tr>\n",
              "    <tr>\n",
              "      <th>...</th>\n",
              "      <td>...</td>\n",
              "      <td>...</td>\n",
              "      <td>...</td>\n",
              "      <td>...</td>\n",
              "      <td>...</td>\n",
              "    </tr>\n",
              "    <tr>\n",
              "      <th>145</th>\n",
              "      <td>6.7</td>\n",
              "      <td>3.0</td>\n",
              "      <td>5.2</td>\n",
              "      <td>2.3</td>\n",
              "      <td>2.0</td>\n",
              "    </tr>\n",
              "    <tr>\n",
              "      <th>146</th>\n",
              "      <td>6.3</td>\n",
              "      <td>2.5</td>\n",
              "      <td>5.0</td>\n",
              "      <td>1.9</td>\n",
              "      <td>2.0</td>\n",
              "    </tr>\n",
              "    <tr>\n",
              "      <th>147</th>\n",
              "      <td>6.5</td>\n",
              "      <td>3.0</td>\n",
              "      <td>5.2</td>\n",
              "      <td>2.0</td>\n",
              "      <td>2.0</td>\n",
              "    </tr>\n",
              "    <tr>\n",
              "      <th>148</th>\n",
              "      <td>6.2</td>\n",
              "      <td>3.4</td>\n",
              "      <td>5.4</td>\n",
              "      <td>2.3</td>\n",
              "      <td>2.0</td>\n",
              "    </tr>\n",
              "    <tr>\n",
              "      <th>149</th>\n",
              "      <td>5.9</td>\n",
              "      <td>3.0</td>\n",
              "      <td>5.1</td>\n",
              "      <td>1.8</td>\n",
              "      <td>2.0</td>\n",
              "    </tr>\n",
              "  </tbody>\n",
              "</table>\n",
              "<p>150 rows × 5 columns</p>\n",
              "</div>\n",
              "    <div class=\"colab-df-buttons\">\n",
              "\n",
              "  <div class=\"colab-df-container\">\n",
              "    <button class=\"colab-df-convert\" onclick=\"convertToInteractive('df-7101de97-68f5-42fb-a9d7-c3acdaf10ce0')\"\n",
              "            title=\"Convert this dataframe to an interactive table.\"\n",
              "            style=\"display:none;\">\n",
              "\n",
              "  <svg xmlns=\"http://www.w3.org/2000/svg\" height=\"24px\" viewBox=\"0 -960 960 960\">\n",
              "    <path d=\"M120-120v-720h720v720H120Zm60-500h600v-160H180v160Zm220 220h160v-160H400v160Zm0 220h160v-160H400v160ZM180-400h160v-160H180v160Zm440 0h160v-160H620v160ZM180-180h160v-160H180v160Zm440 0h160v-160H620v160Z\"/>\n",
              "  </svg>\n",
              "    </button>\n",
              "\n",
              "  <style>\n",
              "    .colab-df-container {\n",
              "      display:flex;\n",
              "      gap: 12px;\n",
              "    }\n",
              "\n",
              "    .colab-df-convert {\n",
              "      background-color: #E8F0FE;\n",
              "      border: none;\n",
              "      border-radius: 50%;\n",
              "      cursor: pointer;\n",
              "      display: none;\n",
              "      fill: #1967D2;\n",
              "      height: 32px;\n",
              "      padding: 0 0 0 0;\n",
              "      width: 32px;\n",
              "    }\n",
              "\n",
              "    .colab-df-convert:hover {\n",
              "      background-color: #E2EBFA;\n",
              "      box-shadow: 0px 1px 2px rgba(60, 64, 67, 0.3), 0px 1px 3px 1px rgba(60, 64, 67, 0.15);\n",
              "      fill: #174EA6;\n",
              "    }\n",
              "\n",
              "    .colab-df-buttons div {\n",
              "      margin-bottom: 4px;\n",
              "    }\n",
              "\n",
              "    [theme=dark] .colab-df-convert {\n",
              "      background-color: #3B4455;\n",
              "      fill: #D2E3FC;\n",
              "    }\n",
              "\n",
              "    [theme=dark] .colab-df-convert:hover {\n",
              "      background-color: #434B5C;\n",
              "      box-shadow: 0px 1px 3px 1px rgba(0, 0, 0, 0.15);\n",
              "      filter: drop-shadow(0px 1px 2px rgba(0, 0, 0, 0.3));\n",
              "      fill: #FFFFFF;\n",
              "    }\n",
              "  </style>\n",
              "\n",
              "    <script>\n",
              "      const buttonEl =\n",
              "        document.querySelector('#df-7101de97-68f5-42fb-a9d7-c3acdaf10ce0 button.colab-df-convert');\n",
              "      buttonEl.style.display =\n",
              "        google.colab.kernel.accessAllowed ? 'block' : 'none';\n",
              "\n",
              "      async function convertToInteractive(key) {\n",
              "        const element = document.querySelector('#df-7101de97-68f5-42fb-a9d7-c3acdaf10ce0');\n",
              "        const dataTable =\n",
              "          await google.colab.kernel.invokeFunction('convertToInteractive',\n",
              "                                                    [key], {});\n",
              "        if (!dataTable) return;\n",
              "\n",
              "        const docLinkHtml = 'Like what you see? Visit the ' +\n",
              "          '<a target=\"_blank\" href=https://colab.research.google.com/notebooks/data_table.ipynb>data table notebook</a>'\n",
              "          + ' to learn more about interactive tables.';\n",
              "        element.innerHTML = '';\n",
              "        dataTable['output_type'] = 'display_data';\n",
              "        await google.colab.output.renderOutput(dataTable, element);\n",
              "        const docLink = document.createElement('div');\n",
              "        docLink.innerHTML = docLinkHtml;\n",
              "        element.appendChild(docLink);\n",
              "      }\n",
              "    </script>\n",
              "  </div>\n",
              "\n",
              "\n",
              "<div id=\"df-8103f4c9-73f3-49df-b468-bca9d901bd57\">\n",
              "  <button class=\"colab-df-quickchart\" onclick=\"quickchart('df-8103f4c9-73f3-49df-b468-bca9d901bd57')\"\n",
              "            title=\"Suggest charts\"\n",
              "            style=\"display:none;\">\n",
              "\n",
              "<svg xmlns=\"http://www.w3.org/2000/svg\" height=\"24px\"viewBox=\"0 0 24 24\"\n",
              "     width=\"24px\">\n",
              "    <g>\n",
              "        <path d=\"M19 3H5c-1.1 0-2 .9-2 2v14c0 1.1.9 2 2 2h14c1.1 0 2-.9 2-2V5c0-1.1-.9-2-2-2zM9 17H7v-7h2v7zm4 0h-2V7h2v10zm4 0h-2v-4h2v4z\"/>\n",
              "    </g>\n",
              "</svg>\n",
              "  </button>\n",
              "\n",
              "<style>\n",
              "  .colab-df-quickchart {\n",
              "      --bg-color: #E8F0FE;\n",
              "      --fill-color: #1967D2;\n",
              "      --hover-bg-color: #E2EBFA;\n",
              "      --hover-fill-color: #174EA6;\n",
              "      --disabled-fill-color: #AAA;\n",
              "      --disabled-bg-color: #DDD;\n",
              "  }\n",
              "\n",
              "  [theme=dark] .colab-df-quickchart {\n",
              "      --bg-color: #3B4455;\n",
              "      --fill-color: #D2E3FC;\n",
              "      --hover-bg-color: #434B5C;\n",
              "      --hover-fill-color: #FFFFFF;\n",
              "      --disabled-bg-color: #3B4455;\n",
              "      --disabled-fill-color: #666;\n",
              "  }\n",
              "\n",
              "  .colab-df-quickchart {\n",
              "    background-color: var(--bg-color);\n",
              "    border: none;\n",
              "    border-radius: 50%;\n",
              "    cursor: pointer;\n",
              "    display: none;\n",
              "    fill: var(--fill-color);\n",
              "    height: 32px;\n",
              "    padding: 0;\n",
              "    width: 32px;\n",
              "  }\n",
              "\n",
              "  .colab-df-quickchart:hover {\n",
              "    background-color: var(--hover-bg-color);\n",
              "    box-shadow: 0 1px 2px rgba(60, 64, 67, 0.3), 0 1px 3px 1px rgba(60, 64, 67, 0.15);\n",
              "    fill: var(--button-hover-fill-color);\n",
              "  }\n",
              "\n",
              "  .colab-df-quickchart-complete:disabled,\n",
              "  .colab-df-quickchart-complete:disabled:hover {\n",
              "    background-color: var(--disabled-bg-color);\n",
              "    fill: var(--disabled-fill-color);\n",
              "    box-shadow: none;\n",
              "  }\n",
              "\n",
              "  .colab-df-spinner {\n",
              "    border: 2px solid var(--fill-color);\n",
              "    border-color: transparent;\n",
              "    border-bottom-color: var(--fill-color);\n",
              "    animation:\n",
              "      spin 1s steps(1) infinite;\n",
              "  }\n",
              "\n",
              "  @keyframes spin {\n",
              "    0% {\n",
              "      border-color: transparent;\n",
              "      border-bottom-color: var(--fill-color);\n",
              "      border-left-color: var(--fill-color);\n",
              "    }\n",
              "    20% {\n",
              "      border-color: transparent;\n",
              "      border-left-color: var(--fill-color);\n",
              "      border-top-color: var(--fill-color);\n",
              "    }\n",
              "    30% {\n",
              "      border-color: transparent;\n",
              "      border-left-color: var(--fill-color);\n",
              "      border-top-color: var(--fill-color);\n",
              "      border-right-color: var(--fill-color);\n",
              "    }\n",
              "    40% {\n",
              "      border-color: transparent;\n",
              "      border-right-color: var(--fill-color);\n",
              "      border-top-color: var(--fill-color);\n",
              "    }\n",
              "    60% {\n",
              "      border-color: transparent;\n",
              "      border-right-color: var(--fill-color);\n",
              "    }\n",
              "    80% {\n",
              "      border-color: transparent;\n",
              "      border-right-color: var(--fill-color);\n",
              "      border-bottom-color: var(--fill-color);\n",
              "    }\n",
              "    90% {\n",
              "      border-color: transparent;\n",
              "      border-bottom-color: var(--fill-color);\n",
              "    }\n",
              "  }\n",
              "</style>\n",
              "\n",
              "  <script>\n",
              "    async function quickchart(key) {\n",
              "      const quickchartButtonEl =\n",
              "        document.querySelector('#' + key + ' button');\n",
              "      quickchartButtonEl.disabled = true;  // To prevent multiple clicks.\n",
              "      quickchartButtonEl.classList.add('colab-df-spinner');\n",
              "      try {\n",
              "        const charts = await google.colab.kernel.invokeFunction(\n",
              "            'suggestCharts', [key], {});\n",
              "      } catch (error) {\n",
              "        console.error('Error during call to suggestCharts:', error);\n",
              "      }\n",
              "      quickchartButtonEl.classList.remove('colab-df-spinner');\n",
              "      quickchartButtonEl.classList.add('colab-df-quickchart-complete');\n",
              "    }\n",
              "    (() => {\n",
              "      let quickchartButtonEl =\n",
              "        document.querySelector('#df-8103f4c9-73f3-49df-b468-bca9d901bd57 button');\n",
              "      quickchartButtonEl.style.display =\n",
              "        google.colab.kernel.accessAllowed ? 'block' : 'none';\n",
              "    })();\n",
              "  </script>\n",
              "</div>\n",
              "\n",
              "  <div id=\"id_5952dd7c-d407-4c6a-9d74-33b81b995197\">\n",
              "    <style>\n",
              "      .colab-df-generate {\n",
              "        background-color: #E8F0FE;\n",
              "        border: none;\n",
              "        border-radius: 50%;\n",
              "        cursor: pointer;\n",
              "        display: none;\n",
              "        fill: #1967D2;\n",
              "        height: 32px;\n",
              "        padding: 0 0 0 0;\n",
              "        width: 32px;\n",
              "      }\n",
              "\n",
              "      .colab-df-generate:hover {\n",
              "        background-color: #E2EBFA;\n",
              "        box-shadow: 0px 1px 2px rgba(60, 64, 67, 0.3), 0px 1px 3px 1px rgba(60, 64, 67, 0.15);\n",
              "        fill: #174EA6;\n",
              "      }\n",
              "\n",
              "      [theme=dark] .colab-df-generate {\n",
              "        background-color: #3B4455;\n",
              "        fill: #D2E3FC;\n",
              "      }\n",
              "\n",
              "      [theme=dark] .colab-df-generate:hover {\n",
              "        background-color: #434B5C;\n",
              "        box-shadow: 0px 1px 3px 1px rgba(0, 0, 0, 0.15);\n",
              "        filter: drop-shadow(0px 1px 2px rgba(0, 0, 0, 0.3));\n",
              "        fill: #FFFFFF;\n",
              "      }\n",
              "    </style>\n",
              "    <button class=\"colab-df-generate\" onclick=\"generateWithVariable('my_df')\"\n",
              "            title=\"Generate code using this dataframe.\"\n",
              "            style=\"display:none;\">\n",
              "\n",
              "  <svg xmlns=\"http://www.w3.org/2000/svg\" height=\"24px\"viewBox=\"0 0 24 24\"\n",
              "       width=\"24px\">\n",
              "    <path d=\"M7,19H8.4L18.45,9,17,7.55,7,17.6ZM5,21V16.75L18.45,3.32a2,2,0,0,1,2.83,0l1.4,1.43a1.91,1.91,0,0,1,.58,1.4,1.91,1.91,0,0,1-.58,1.4L9.25,21ZM18.45,9,17,7.55Zm-12,3A5.31,5.31,0,0,0,4.9,8.1,5.31,5.31,0,0,0,1,6.5,5.31,5.31,0,0,0,4.9,4.9,5.31,5.31,0,0,0,6.5,1,5.31,5.31,0,0,0,8.1,4.9,5.31,5.31,0,0,0,12,6.5,5.46,5.46,0,0,0,6.5,12Z\"/>\n",
              "  </svg>\n",
              "    </button>\n",
              "    <script>\n",
              "      (() => {\n",
              "      const buttonEl =\n",
              "        document.querySelector('#id_5952dd7c-d407-4c6a-9d74-33b81b995197 button.colab-df-generate');\n",
              "      buttonEl.style.display =\n",
              "        google.colab.kernel.accessAllowed ? 'block' : 'none';\n",
              "\n",
              "      buttonEl.onclick = () => {\n",
              "        google.colab.notebook.generateWithVariable('my_df');\n",
              "      }\n",
              "      })();\n",
              "    </script>\n",
              "  </div>\n",
              "\n",
              "    </div>\n",
              "  </div>\n"
            ],
            "application/vnd.google.colaboratory.intrinsic+json": {
              "type": "dataframe",
              "variable_name": "my_df",
              "summary": "{\n  \"name\": \"my_df\",\n  \"rows\": 150,\n  \"fields\": [\n    {\n      \"column\": \"sepal.length\",\n      \"properties\": {\n        \"dtype\": \"number\",\n        \"std\": 0.828066127977863,\n        \"min\": 4.3,\n        \"max\": 7.9,\n        \"num_unique_values\": 35,\n        \"samples\": [\n          6.2,\n          4.5,\n          5.6\n        ],\n        \"semantic_type\": \"\",\n        \"description\": \"\"\n      }\n    },\n    {\n      \"column\": \"sepal.width\",\n      \"properties\": {\n        \"dtype\": \"number\",\n        \"std\": 0.4358662849366982,\n        \"min\": 2.0,\n        \"max\": 4.4,\n        \"num_unique_values\": 23,\n        \"samples\": [\n          2.3,\n          4.0,\n          3.5\n        ],\n        \"semantic_type\": \"\",\n        \"description\": \"\"\n      }\n    },\n    {\n      \"column\": \"petal.length\",\n      \"properties\": {\n        \"dtype\": \"number\",\n        \"std\": 1.7652982332594662,\n        \"min\": 1.0,\n        \"max\": 6.9,\n        \"num_unique_values\": 43,\n        \"samples\": [\n          6.7,\n          3.8,\n          3.7\n        ],\n        \"semantic_type\": \"\",\n        \"description\": \"\"\n      }\n    },\n    {\n      \"column\": \"petal.width\",\n      \"properties\": {\n        \"dtype\": \"number\",\n        \"std\": 0.7622376689603465,\n        \"min\": 0.1,\n        \"max\": 2.5,\n        \"num_unique_values\": 22,\n        \"samples\": [\n          0.2,\n          1.2,\n          1.3\n        ],\n        \"semantic_type\": \"\",\n        \"description\": \"\"\n      }\n    },\n    {\n      \"column\": \"variety\",\n      \"properties\": {\n        \"dtype\": \"number\",\n        \"std\": 0.8192319205190405,\n        \"min\": 0.0,\n        \"max\": 2.0,\n        \"num_unique_values\": 3,\n        \"samples\": [\n          0.0,\n          1.0,\n          2.0\n        ],\n        \"semantic_type\": \"\",\n        \"description\": \"\"\n      }\n    }\n  ]\n}"
            }
          },
          "metadata": {},
          "execution_count": 171
        }
      ]
    },
    {
      "cell_type": "code",
      "source": [
        "# Train Test Split!  Set X, y\n",
        "X = my_df.drop('variety', axis=1)\n",
        "y = my_df['variety']"
      ],
      "metadata": {
        "id": "vmY-fqRNTh9L"
      },
      "execution_count": null,
      "outputs": []
    },
    {
      "cell_type": "code",
      "source": [
        "# Convert these to numpy arrays\n",
        "X = X.values\n",
        "y = y.values"
      ],
      "metadata": {
        "id": "GtP-HcsNtNEa"
      },
      "execution_count": null,
      "outputs": []
    },
    {
      "cell_type": "code",
      "source": [
        "X"
      ],
      "metadata": {
        "collapsed": true,
        "colab": {
          "base_uri": "https://localhost:8080/"
        },
        "id": "MrT7JDgptU-e",
        "outputId": "999e7177-8602-422e-bd90-feceb987852d"
      },
      "execution_count": null,
      "outputs": [
        {
          "output_type": "execute_result",
          "data": {
            "text/plain": [
              "array([[5.1, 3.5, 1.4, 0.2],\n",
              "       [4.9, 3. , 1.4, 0.2],\n",
              "       [4.7, 3.2, 1.3, 0.2],\n",
              "       [4.6, 3.1, 1.5, 0.2],\n",
              "       [5. , 3.6, 1.4, 0.2],\n",
              "       [5.4, 3.9, 1.7, 0.4],\n",
              "       [4.6, 3.4, 1.4, 0.3],\n",
              "       [5. , 3.4, 1.5, 0.2],\n",
              "       [4.4, 2.9, 1.4, 0.2],\n",
              "       [4.9, 3.1, 1.5, 0.1],\n",
              "       [5.4, 3.7, 1.5, 0.2],\n",
              "       [4.8, 3.4, 1.6, 0.2],\n",
              "       [4.8, 3. , 1.4, 0.1],\n",
              "       [4.3, 3. , 1.1, 0.1],\n",
              "       [5.8, 4. , 1.2, 0.2],\n",
              "       [5.7, 4.4, 1.5, 0.4],\n",
              "       [5.4, 3.9, 1.3, 0.4],\n",
              "       [5.1, 3.5, 1.4, 0.3],\n",
              "       [5.7, 3.8, 1.7, 0.3],\n",
              "       [5.1, 3.8, 1.5, 0.3],\n",
              "       [5.4, 3.4, 1.7, 0.2],\n",
              "       [5.1, 3.7, 1.5, 0.4],\n",
              "       [4.6, 3.6, 1. , 0.2],\n",
              "       [5.1, 3.3, 1.7, 0.5],\n",
              "       [4.8, 3.4, 1.9, 0.2],\n",
              "       [5. , 3. , 1.6, 0.2],\n",
              "       [5. , 3.4, 1.6, 0.4],\n",
              "       [5.2, 3.5, 1.5, 0.2],\n",
              "       [5.2, 3.4, 1.4, 0.2],\n",
              "       [4.7, 3.2, 1.6, 0.2],\n",
              "       [4.8, 3.1, 1.6, 0.2],\n",
              "       [5.4, 3.4, 1.5, 0.4],\n",
              "       [5.2, 4.1, 1.5, 0.1],\n",
              "       [5.5, 4.2, 1.4, 0.2],\n",
              "       [4.9, 3.1, 1.5, 0.2],\n",
              "       [5. , 3.2, 1.2, 0.2],\n",
              "       [5.5, 3.5, 1.3, 0.2],\n",
              "       [4.9, 3.6, 1.4, 0.1],\n",
              "       [4.4, 3. , 1.3, 0.2],\n",
              "       [5.1, 3.4, 1.5, 0.2],\n",
              "       [5. , 3.5, 1.3, 0.3],\n",
              "       [4.5, 2.3, 1.3, 0.3],\n",
              "       [4.4, 3.2, 1.3, 0.2],\n",
              "       [5. , 3.5, 1.6, 0.6],\n",
              "       [5.1, 3.8, 1.9, 0.4],\n",
              "       [4.8, 3. , 1.4, 0.3],\n",
              "       [5.1, 3.8, 1.6, 0.2],\n",
              "       [4.6, 3.2, 1.4, 0.2],\n",
              "       [5.3, 3.7, 1.5, 0.2],\n",
              "       [5. , 3.3, 1.4, 0.2],\n",
              "       [7. , 3.2, 4.7, 1.4],\n",
              "       [6.4, 3.2, 4.5, 1.5],\n",
              "       [6.9, 3.1, 4.9, 1.5],\n",
              "       [5.5, 2.3, 4. , 1.3],\n",
              "       [6.5, 2.8, 4.6, 1.5],\n",
              "       [5.7, 2.8, 4.5, 1.3],\n",
              "       [6.3, 3.3, 4.7, 1.6],\n",
              "       [4.9, 2.4, 3.3, 1. ],\n",
              "       [6.6, 2.9, 4.6, 1.3],\n",
              "       [5.2, 2.7, 3.9, 1.4],\n",
              "       [5. , 2. , 3.5, 1. ],\n",
              "       [5.9, 3. , 4.2, 1.5],\n",
              "       [6. , 2.2, 4. , 1. ],\n",
              "       [6.1, 2.9, 4.7, 1.4],\n",
              "       [5.6, 2.9, 3.6, 1.3],\n",
              "       [6.7, 3.1, 4.4, 1.4],\n",
              "       [5.6, 3. , 4.5, 1.5],\n",
              "       [5.8, 2.7, 4.1, 1. ],\n",
              "       [6.2, 2.2, 4.5, 1.5],\n",
              "       [5.6, 2.5, 3.9, 1.1],\n",
              "       [5.9, 3.2, 4.8, 1.8],\n",
              "       [6.1, 2.8, 4. , 1.3],\n",
              "       [6.3, 2.5, 4.9, 1.5],\n",
              "       [6.1, 2.8, 4.7, 1.2],\n",
              "       [6.4, 2.9, 4.3, 1.3],\n",
              "       [6.6, 3. , 4.4, 1.4],\n",
              "       [6.8, 2.8, 4.8, 1.4],\n",
              "       [6.7, 3. , 5. , 1.7],\n",
              "       [6. , 2.9, 4.5, 1.5],\n",
              "       [5.7, 2.6, 3.5, 1. ],\n",
              "       [5.5, 2.4, 3.8, 1.1],\n",
              "       [5.5, 2.4, 3.7, 1. ],\n",
              "       [5.8, 2.7, 3.9, 1.2],\n",
              "       [6. , 2.7, 5.1, 1.6],\n",
              "       [5.4, 3. , 4.5, 1.5],\n",
              "       [6. , 3.4, 4.5, 1.6],\n",
              "       [6.7, 3.1, 4.7, 1.5],\n",
              "       [6.3, 2.3, 4.4, 1.3],\n",
              "       [5.6, 3. , 4.1, 1.3],\n",
              "       [5.5, 2.5, 4. , 1.3],\n",
              "       [5.5, 2.6, 4.4, 1.2],\n",
              "       [6.1, 3. , 4.6, 1.4],\n",
              "       [5.8, 2.6, 4. , 1.2],\n",
              "       [5. , 2.3, 3.3, 1. ],\n",
              "       [5.6, 2.7, 4.2, 1.3],\n",
              "       [5.7, 3. , 4.2, 1.2],\n",
              "       [5.7, 2.9, 4.2, 1.3],\n",
              "       [6.2, 2.9, 4.3, 1.3],\n",
              "       [5.1, 2.5, 3. , 1.1],\n",
              "       [5.7, 2.8, 4.1, 1.3],\n",
              "       [6.3, 3.3, 6. , 2.5],\n",
              "       [5.8, 2.7, 5.1, 1.9],\n",
              "       [7.1, 3. , 5.9, 2.1],\n",
              "       [6.3, 2.9, 5.6, 1.8],\n",
              "       [6.5, 3. , 5.8, 2.2],\n",
              "       [7.6, 3. , 6.6, 2.1],\n",
              "       [4.9, 2.5, 4.5, 1.7],\n",
              "       [7.3, 2.9, 6.3, 1.8],\n",
              "       [6.7, 2.5, 5.8, 1.8],\n",
              "       [7.2, 3.6, 6.1, 2.5],\n",
              "       [6.5, 3.2, 5.1, 2. ],\n",
              "       [6.4, 2.7, 5.3, 1.9],\n",
              "       [6.8, 3. , 5.5, 2.1],\n",
              "       [5.7, 2.5, 5. , 2. ],\n",
              "       [5.8, 2.8, 5.1, 2.4],\n",
              "       [6.4, 3.2, 5.3, 2.3],\n",
              "       [6.5, 3. , 5.5, 1.8],\n",
              "       [7.7, 3.8, 6.7, 2.2],\n",
              "       [7.7, 2.6, 6.9, 2.3],\n",
              "       [6. , 2.2, 5. , 1.5],\n",
              "       [6.9, 3.2, 5.7, 2.3],\n",
              "       [5.6, 2.8, 4.9, 2. ],\n",
              "       [7.7, 2.8, 6.7, 2. ],\n",
              "       [6.3, 2.7, 4.9, 1.8],\n",
              "       [6.7, 3.3, 5.7, 2.1],\n",
              "       [7.2, 3.2, 6. , 1.8],\n",
              "       [6.2, 2.8, 4.8, 1.8],\n",
              "       [6.1, 3. , 4.9, 1.8],\n",
              "       [6.4, 2.8, 5.6, 2.1],\n",
              "       [7.2, 3. , 5.8, 1.6],\n",
              "       [7.4, 2.8, 6.1, 1.9],\n",
              "       [7.9, 3.8, 6.4, 2. ],\n",
              "       [6.4, 2.8, 5.6, 2.2],\n",
              "       [6.3, 2.8, 5.1, 1.5],\n",
              "       [6.1, 2.6, 5.6, 1.4],\n",
              "       [7.7, 3. , 6.1, 2.3],\n",
              "       [6.3, 3.4, 5.6, 2.4],\n",
              "       [6.4, 3.1, 5.5, 1.8],\n",
              "       [6. , 3. , 4.8, 1.8],\n",
              "       [6.9, 3.1, 5.4, 2.1],\n",
              "       [6.7, 3.1, 5.6, 2.4],\n",
              "       [6.9, 3.1, 5.1, 2.3],\n",
              "       [5.8, 2.7, 5.1, 1.9],\n",
              "       [6.8, 3.2, 5.9, 2.3],\n",
              "       [6.7, 3.3, 5.7, 2.5],\n",
              "       [6.7, 3. , 5.2, 2.3],\n",
              "       [6.3, 2.5, 5. , 1.9],\n",
              "       [6.5, 3. , 5.2, 2. ],\n",
              "       [6.2, 3.4, 5.4, 2.3],\n",
              "       [5.9, 3. , 5.1, 1.8]])"
            ]
          },
          "metadata": {},
          "execution_count": 174
        }
      ]
    },
    {
      "cell_type": "code",
      "source": [
        "from sklearn.model_selection import train_test_split\n",
        "\n",
        "# Train Test Split\n",
        "X_train, X_test, y_train, y_test = train_test_split(X, y, test_size=0.2, random_state=41)\n"
      ],
      "metadata": {
        "id": "7IGUX4f1tY5x"
      },
      "execution_count": null,
      "outputs": []
    },
    {
      "cell_type": "code",
      "source": [
        "# Convert X features to float tensors\n",
        "X_train = torch.FloatTensor(X_train)\n",
        "X_test = torch.FloatTensor(X_test)"
      ],
      "metadata": {
        "id": "ttMqAFP6tkeU"
      },
      "execution_count": null,
      "outputs": []
    },
    {
      "cell_type": "code",
      "source": [
        "# Convert y labels to tensors long\n",
        "y_train = torch.LongTensor(y_train)\n",
        "y_test = torch.LongTensor(y_test)"
      ],
      "metadata": {
        "id": "W3B18An7tqXs"
      },
      "execution_count": null,
      "outputs": []
    },
    {
      "cell_type": "code",
      "source": [
        "# Set the criterion of model to measure the error, how far off the predictions are from the data\n",
        "criterion = nn.CrossEntropyLoss()\n",
        "# Choose Adam Optimizer, lr = learning rate (if error doesn't go down after a bunch of iterations (epochs), lower our learning rate)\n",
        "optimizer = torch.optim.Adam(model.parameters(), lr=0.01)"
      ],
      "metadata": {
        "id": "UV6lOH_JuQYq"
      },
      "execution_count": null,
      "outputs": []
    },
    {
      "cell_type": "code",
      "source": [
        "# Train our model!\n",
        "# Epochs? (one run thru all the training data in our network)\n",
        "epochs = 100\n",
        "losses = []\n",
        "for i in range(epochs):\n",
        "  # Go forward and get a prediction\n",
        "  y_pred = model.forward(X_train) # Get predicted results\n",
        "\n",
        "  # Measure the loss/error, gonna be high at first\n",
        "  loss = criterion(y_pred, y_train) # predicted values vs the y_train\n",
        "\n",
        "  # Keep Track of our losses\n",
        "  losses.append(loss.detach().numpy())\n",
        "\n",
        "  # print every 10 epoch\n",
        "  if i % 10 == 0:\n",
        "    print(f'Epoch: {i} and loss: {loss}')\n",
        "\n",
        "  # Do some back propagation: take the error rate of forward propagation and feed it back\n",
        "  # thru the network to fine tune the weights\n",
        "  optimizer.zero_grad()\n",
        "  loss.backward()\n",
        "  optimizer.step()"
      ],
      "metadata": {
        "colab": {
          "base_uri": "https://localhost:8080/"
        },
        "id": "G6MzC1WHwYCH",
        "outputId": "a8955e66-2d80-4509-9521-67053743d8ac"
      },
      "execution_count": null,
      "outputs": [
        {
          "output_type": "stream",
          "name": "stdout",
          "text": [
            "Epoch: 0 and loss: 1.125203251838684\n",
            "Epoch: 10 and loss: 1.0097211599349976\n",
            "Epoch: 20 and loss: 0.8162347674369812\n",
            "Epoch: 30 and loss: 0.585993230342865\n",
            "Epoch: 40 and loss: 0.4003389775753021\n",
            "Epoch: 50 and loss: 0.26794716715812683\n",
            "Epoch: 60 and loss: 0.1796349585056305\n",
            "Epoch: 70 and loss: 0.12165623158216476\n",
            "Epoch: 80 and loss: 0.0860651507973671\n",
            "Epoch: 90 and loss: 0.06522614508867264\n"
          ]
        }
      ]
    },
    {
      "cell_type": "code",
      "source": [
        "# Graph it out!\n",
        "plt.plot(range(epochs), losses)\n",
        "plt.ylabel(\"loss/error\")\n",
        "plt.xlabel('Epoch')"
      ],
      "metadata": {
        "colab": {
          "base_uri": "https://localhost:8080/",
          "height": 466
        },
        "id": "A1HZWXv9we5W",
        "outputId": "2e34179c-5c08-4ed6-af9d-d449399fa57d"
      },
      "execution_count": null,
      "outputs": [
        {
          "output_type": "execute_result",
          "data": {
            "text/plain": [
              "Text(0.5, 0, 'Epoch')"
            ]
          },
          "metadata": {},
          "execution_count": 180
        },
        {
          "output_type": "display_data",
          "data": {
            "text/plain": [
              "<Figure size 640x480 with 1 Axes>"
            ],
            "image/png": "[encoded data removed]"
          },
          "metadata": {}
        }
      ]
    },
    {
      "cell_type": "code",
      "source": [
        "# Evaluate Model on Test Data Set (validate model on test set)\n",
        "with torch.no_grad():  # Basically turn off back propogation\n",
        "  y_eval = model.forward(X_test) # X_test are features from our test set, y_eval will be predictions\n",
        "  loss = criterion(y_eval, y_test) # Find the loss or error"
      ],
      "metadata": {
        "id": "03C9_0DFwpN7"
      },
      "execution_count": null,
      "outputs": []
    },
    {
      "cell_type": "code",
      "source": [
        "loss"
      ],
      "metadata": {
        "colab": {
          "base_uri": "https://localhost:8080/"
        },
        "id": "jDoOocobws1-",
        "outputId": "1236e387-3f55-4c61-fac5-11f7bf7b302b"
      },
      "execution_count": null,
      "outputs": [
        {
          "output_type": "execute_result",
          "data": {
            "text/plain": [
              "tensor(0.1315)"
            ]
          },
          "metadata": {},
          "execution_count": 182
        }
      ]
    },
    {
      "cell_type": "code",
      "source": [
        "correct = 0\n",
        "with torch.no_grad():\n",
        "  for i, data in enumerate(X_test):\n",
        "    y_val = model.forward(data)\n",
        "\n",
        "    if y_test[i] == 0:\n",
        "      x = \"Setosa\"\n",
        "    elif y_test[i] == 1:\n",
        "      x = 'Versicolor'\n",
        "    else:\n",
        "      x = 'Virginica'\n",
        "\n",
        "\n",
        "    # Will tell us what type of flower class our network thinks it is\n",
        "    print(f'{i+1}.)  {str(y_val)} \\t {y_test[i]} \\t {y_val.argmax().item()}')\n",
        "\n",
        "    # Correct or not\n",
        "    if y_val.argmax().item() == y_test[i]:\n",
        "      correct +=1\n",
        "\n",
        "print(f'We got {correct} correct!')"
      ],
      "metadata": {
        "colab": {
          "base_uri": "https://localhost:8080/"
        },
        "id": "-HGHc10ewtmA",
        "outputId": "4d62d8c5-fe83-4e01-ccf1-66d0c6de7733"
      },
      "execution_count": null,
      "outputs": [
        {
          "output_type": "stream",
          "name": "stdout",
          "text": [
            "1.)  tensor([-5.8771,  4.4629,  6.5155]) \t 2 \t 2\n",
            "2.)  tensor([-7.5451,  4.1668,  9.7293]) \t 2 \t 2\n",
            "3.)  tensor([-8.4517,  5.1275, 10.2015]) \t 2 \t 2\n",
            "4.)  tensor([-4.3411,  5.6280,  2.5636]) \t 1 \t 1\n",
            "5.)  tensor([-7.1838,  4.8757,  8.3023]) \t 2 \t 2\n",
            "6.)  tensor([-3.3940,  5.3421,  1.2802]) \t 1 \t 1\n",
            "7.)  tensor([-5.9240,  4.9826,  6.0025]) \t 2 \t 2\n",
            "8.)  tensor([-4.2895,  5.7016,  2.3920]) \t 1 \t 1\n",
            "9.)  tensor([-6.5369,  4.9261,  7.1291]) \t 2 \t 2\n",
            "10.)  tensor([-8.0526,  4.4129, 10.3325]) \t 2 \t 2\n",
            "11.)  tensor([-5.6775,  4.9505,  5.6248]) \t 2 \t 2\n",
            "12.)  tensor([ 4.5748, -2.2579, -2.8925]) \t 0 \t 0\n",
            "13.)  tensor([ 4.2646, -2.0055, -2.7342]) \t 0 \t 0\n",
            "14.)  tensor([-2.1081,  4.0482,  0.5803]) \t 1 \t 1\n",
            "15.)  tensor([ 3.4608, -1.2147, -2.3488]) \t 0 \t 0\n",
            "16.)  tensor([-5.4739,  5.1174,  5.0966]) \t 2 \t 1\n",
            "17.)  tensor([ 4.0637, -1.8045, -2.6504]) \t 0 \t 0\n",
            "18.)  tensor([-5.8090,  4.6057,  6.2494]) \t 1 \t 2\n",
            "19.)  tensor([ 4.9250, -2.5763, -3.0545]) \t 0 \t 0\n",
            "20.)  tensor([ 3.4559, -1.2559, -2.3637]) \t 0 \t 0\n",
            "21.)  tensor([-2.6161,  4.5584,  0.8575]) \t 1 \t 1\n",
            "22.)  tensor([-7.7427,  4.7379,  9.4233]) \t 2 \t 2\n",
            "23.)  tensor([ 3.5776, -1.3269, -2.4109]) \t 0 \t 0\n",
            "24.)  tensor([ 4.5445, -2.2478, -2.8698]) \t 0 \t 0\n",
            "25.)  tensor([-2.6548,  4.6138,  0.8825]) \t 1 \t 1\n",
            "26.)  tensor([-3.2832,  5.2189,  1.2163]) \t 1 \t 1\n",
            "27.)  tensor([-4.6527,  5.7790,  2.9302]) \t 1 \t 1\n",
            "28.)  tensor([-2.9436,  4.8858,  1.0381]) \t 1 \t 1\n",
            "29.)  tensor([ 4.5932, -2.2788, -2.8989]) \t 0 \t 0\n",
            "30.)  tensor([-4.5797,  5.4566,  3.1690]) \t 1 \t 1\n",
            "We got 28 correct!\n"
          ]
        }
      ]
    },
    {
      "cell_type": "code",
      "source": [
        "new_iris = torch.tensor([4.7, 3.2, 1.3, 0.2])"
      ],
      "metadata": {
        "id": "qySOqO5NxdNo"
      },
      "execution_count": null,
      "outputs": []
    },
    {
      "cell_type": "code",
      "source": [
        "with torch.no_grad():\n",
        "  print(model(new_iris))"
      ],
      "metadata": {
        "colab": {
          "base_uri": "https://localhost:8080/"
        },
        "id": "hO4avWGkxp5s",
        "outputId": "c96a13e3-66db-46cf-a80a-d66223d0d078"
      },
      "execution_count": null,
      "outputs": [
        {
          "output_type": "stream",
          "name": "stdout",
          "text": [
            "tensor([ 4.5445, -2.2478, -2.8698])\n"
          ]
        }
      ]
    },
    {
      "cell_type": "code",
      "source": [
        "\n",
        "newer_iris = torch.tensor([5.9, 3.0, 5.1, 1.8])"
      ],
      "metadata": {
        "id": "9EgRSKbtxsn-"
      },
      "execution_count": null,
      "outputs": []
    },
    {
      "cell_type": "code",
      "source": [
        "\n",
        "with torch.no_grad():\n",
        "  print(model(newer_iris))"
      ],
      "metadata": {
        "colab": {
          "base_uri": "https://localhost:8080/"
        },
        "id": "hGTV_zAGxvHf",
        "outputId": "69dcb48d-8bc4-4e2a-f27f-e80bc9333d03"
      },
      "execution_count": null,
      "outputs": [
        {
          "output_type": "stream",
          "name": "stdout",
          "text": [
            "tensor([-5.9960,  4.5080,  6.6831])\n"
          ]
        }
      ]
    },
    {
      "cell_type": "code",
      "source": [
        "# Save our NN Model\n",
        "torch.save(model.state_dict(), 'my_really_awesome_iris_model.pt')"
      ],
      "metadata": {
        "id": "O2AaAAefxxc8"
      },
      "execution_count": null,
      "outputs": []
    },
    {
      "cell_type": "code",
      "source": [
        "# Load the Saved Model\n",
        "new_model = Model()\n",
        "new_model.load_state_dict(torch.load('my_really_awesome_iris_model.pt'))"
      ],
      "metadata": {
        "colab": {
          "base_uri": "https://localhost:8080/"
        },
        "id": "biGIkaVSx2B0",
        "outputId": "8d1d181d-2092-4cf8-83d2-acb1cefec9c8"
      },
      "execution_count": null,
      "outputs": [
        {
          "output_type": "execute_result",
          "data": {
            "text/plain": [
              "<All keys matched successfully>"
            ]
          },
          "metadata": {},
          "execution_count": 189
        }
      ]
    },
    {
      "cell_type": "code",
      "source": [
        "\n",
        "# Make sure it loaded correctly\n",
        "new_model.eval()"
      ],
      "metadata": {
        "colab": {
          "base_uri": "https://localhost:8080/"
        },
        "id": "AprjwTR-x97m",
        "outputId": "103fd06b-27c9-4e43-bc45-6b2a54400595"
      },
      "execution_count": null,
      "outputs": [
        {
          "output_type": "execute_result",
          "data": {
            "text/plain": [
              "Model(\n",
              "  (fc1): Linear(in_features=4, out_features=8, bias=True)\n",
              "  (fc2): Linear(in_features=8, out_features=9, bias=True)\n",
              "  (out): Linear(in_features=9, out_features=3, bias=True)\n",
              ")"
            ]
          },
          "metadata": {},
          "execution_count": 190
        }
      ]
    },
    {
      "cell_type": "code",
      "source": [],
      "metadata": {
        "id": "K532plJjyEGt"
      },
      "execution_count": null,
      "outputs": []
    }
  ]
}